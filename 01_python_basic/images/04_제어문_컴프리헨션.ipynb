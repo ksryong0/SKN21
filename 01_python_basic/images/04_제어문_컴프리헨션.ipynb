{
 "cells": [
  {
   "cell_type": "markdown",
   "id": "8c49cd8e",
   "metadata": {
    "slideshow": {
     "slide_type": "slide"
    }
   },
   "source": [
    "# 제어문(Control flow statement)\n",
    "\n",
    "기본적으로 프로그램은 순차구조를 가진다. 즉 작성한 순서대로 실행이 된다.  \n",
    "이런 실행흐름을 다른 순서로 제어하기 위한 구문을 만드는 문법이 제어문이다.  \n",
    "제어문은 **조건문** 과 **반복문** 두가지 문법이 있다.\n",
    "\n",
    "-   **조건문**\n",
    "    -   if 문\n",
    "-   **반복문**\n",
    "    -   while 문\n",
    "    -   for in 문\n"
   ]
  },
  {
   "cell_type": "markdown",
   "id": "92c502ce",
   "metadata": {
    "slideshow": {
     "slide_type": "slide"
    }
   },
   "source": [
    "# 조건문/분기문 (conditional statement)\n",
    "\n",
    "-   프로그램이 명령문들을 실행하는 도중 특정 순서에서 **조건에 따라 흐름의 나눠져야 하는 경우 사용한다**\n",
    "-   파이썬은 조건문으로 **if문**이 있다.\n",
    "\n",
    "![조건문](images/ch03_01.png)\n",
    "\n",
    "입력 받은 a 의 값이 0인지 여부에 따라 두가지 흐름으로 분기된다.\n"
   ]
  },
  {
   "cell_type": "markdown",
   "id": "2a3c1835",
   "metadata": {
    "slideshow": {
     "slide_type": "subslide"
    }
   },
   "source": [
    "## 구문\n",
    "\n",
    "-   조건이 True일 경우만 특정 구문들을 실행 하는 조건문.\n",
    "\n",
    "```python\n",
    "if 조건:    # 조건은 bool 표현식을 기술한다. 조건선언 다음에 : 으로 선언해서 코드블록을 구분한다.\n",
    "    명령문1  # 조건이 True이면 실행할 구문들을 코드블럭에 기술한다.\n",
    "    명령문2  # 코드 블록은 들여쓰기를 이용해 묶어준다. 보통 공백 4칸으로 들여쓰기를 한다.\n",
    "    ...\n",
    "```\n",
    "\n",
    "> ### 파이썬의 코드블록(code block)\n",
    ">\n",
    "> 코드블록이란 **여러 명령문들을 묶어놓은 것을** 말한다. 코드블록으로 묶이면 실행시 같이 다 실행되고 실행이 안되면 같이 다 실행이 안된다.  \n",
    "> 파이썬에서는 코드블록을 작성할 때 **들여쓰기를 이용해 묶어준다.**  \n",
    "> 같은 칸만큼 들여쓰기를 한 명령문들이 같은 블록으로 묶인다.\n",
    "> 들여쓰기는 관례적으로 **공백 4칸을** 사용한다.\n",
    "\n",
    "> ### pass 키워드(예약어)\n",
    ">\n",
    "> -   빈 구현부를 만들때 사용\n",
    ">     -   제어문, 함수의 body 코드블럭은 비울 수 없다. 반드시 명령문을 한개 이상 작성해야한다.\n",
    ">     -   작성할 내용이 없을 경우 사용하는 키워드로 `pass`를 사용한다.\n"
   ]
  },
  {
   "cell_type": "code",
   "execution_count": 1,
   "id": "9aa311a5",
   "metadata": {
    "slideshow": {
     "slide_type": "fragment"
    }
   },
   "outputs": [
    {
     "name": "stdout",
     "output_type": "stream",
     "text": [
      "2\n"
     ]
    }
   ],
   "source": [
    "a = [1,2,3,4,5]\n",
    "if 3 in a :\n",
    "    b = a[0] + 1\n",
    "    print(b)\n",
    "else :\n",
    "    print(a) "
   ]
  },
  {
   "cell_type": "code",
   "execution_count": null,
   "id": "2abf2341",
   "metadata": {},
   "outputs": [],
   "source": [
    "print(\"숫자 입력\")\n",
    "num = int(input(\"숫자:\"))\n",
    "if num == 0 :\n",
    "    print(\"0입니다.\")\n",
    "elif num > 0:\n",
    "    print(f\"{num}은 양수.\")\n",
    "else :\n",
    "    print(f\"{num}은 음수.\")"
   ]
  },
  {
   "cell_type": "markdown",
   "id": "09c79c35",
   "metadata": {
    "slideshow": {
     "slide_type": "subslide"
    }
   },
   "source": [
    "-   **조건이 True일 때 False일때 실행 구문이 분기되는 조건문.**\n",
    "\n",
    "```python\n",
    "if 조건:\n",
    "    명령문1_1 # 조건이 True일 경우 실행할 구문들\n",
    "    명령문1_2\n",
    "    ...\n",
    "else:\n",
    "    명령문2_1 # 조건이 False일 경우 실행할 구문들\n",
    "    명령문2_2\n",
    "    ...\n",
    "```\n"
   ]
  },
  {
   "cell_type": "code",
   "execution_count": null,
   "id": "87b51956",
   "metadata": {
    "slideshow": {
     "slide_type": "fragment"
    }
   },
   "outputs": [],
   "source": [
    "month_str = input(\"월을 입력해주세요\")\n",
    "if month_str.isdigit() :\n",
    "    month = int(month_str)\n",
    "    if month in [1,3,5,7,8,10,12] :\n",
    "        print(f\"{month}월은 31일까지 있습니다.\")\n",
    "    elif month == 2 :\n",
    "        print(\"28일 또는 29일까지 있습니다.\")\n",
    "    elif month in [4,6,9,11] :\n",
    "        print(f\"{month}30일까지 있습니다.\")\n",
    "    else :\n",
    "        print(f\"{month}월은 잘못 입력하셨습니다\")\n",
    "else :\n",
    "    print(\"월은 1~12 사이의 정수만 입력하세요\")\n",
    "print(\"end\")"
   ]
  },
  {
   "cell_type": "code",
   "execution_count": null,
   "id": "8590227c",
   "metadata": {},
   "outputs": [],
   "source": []
  },
  {
   "cell_type": "code",
   "execution_count": null,
   "id": "de32538c",
   "metadata": {},
   "outputs": [],
   "source": [
    "\n",
    "\n",
    "##while True :\n",
    "\n",
    "ㅣ = [1,2,3,4,5]\n",
    "ㅣ\n"
   ]
  },
  {
   "cell_type": "markdown",
   "id": "621eae9a",
   "metadata": {
    "slideshow": {
     "slide_type": "subslide"
    }
   },
   "source": [
    "-   **조건이 여러 개인 조건문.**\n",
    "\n",
    "```python\n",
    "if 조건1:\n",
    "    명령문1_1  # 조건1이 True일 경우 실행할 코드블록.\n",
    "    명령문1_2\n",
    "    ...\n",
    "elif 조건2:    # 다음 조건으로 앞의 조건들이 모드 False일 경우 비교한다.\n",
    "    명령문2_1  # 조건2가 True일 경우 실행할 코드블록.\n",
    "    명령문2_2\n",
    "    ...\n",
    "elif 조건3 :\n",
    "    명령문3_1\n",
    "    명령문3_2\n",
    "    ...\n",
    "else:         # 위의 모든 조건이 False일 경우 실행하는 코드블록. 생략 가능하다.\n",
    "    명령문4\n",
    "```\n"
   ]
  },
  {
   "cell_type": "code",
   "execution_count": null,
   "id": "4c6a532d",
   "metadata": {
    "slideshow": {
     "slide_type": "fragment"
    }
   },
   "outputs": [],
   "source": []
  },
  {
   "cell_type": "markdown",
   "id": "2149b728",
   "metadata": {
    "slideshow": {
     "slide_type": "slide"
    }
   },
   "source": [
    "# 반복문 (Loop statement)\n",
    "\n",
    "특정 구문들을 반복해서 실행할 때 사용한다. 동일한 코드를 여러번 반복하거나 값이 일정하게 변하는 코드를 반복할 경우 사용한다.  \n",
    "단순 반복을 처리하는 **while문**과 iterable객체가 제공하는 값들을 반복 조회하는 **for in문** 두가지 문법이 있다.\n",
    "\n",
    "![반복문](images/ch03_02.png)\n",
    "\n",
    "count의 값이 limit의 값보다 크거나 같을때 까지 count의 값을 1증가 후 출력하는 구문을 반복한다.\n"
   ]
  },
  {
   "cell_type": "markdown",
   "id": "b4740a36",
   "metadata": {
    "slideshow": {
     "slide_type": "subslide"
    }
   },
   "source": [
    "## while문\n",
    "\n",
    "-   조건이 True인 동안 구문을 반복해서 실행한다.\n",
    "\n",
    "### 구문\n",
    "\n",
    "```python\n",
    "while 조건:       # 조건은 bool 표현식을 기술한다. 조건선언 다음에 : 으로 선언해서 코드블록을 구분한다\n",
    "    반복할 구문1  # 반복할 구문을 코드블록으로 작성한다.\n",
    "    반복할 구문2\n",
    "    ...\n",
    "```\n"
   ]
  },
  {
   "cell_type": "code",
   "execution_count": 19,
   "id": "6b11bde6",
   "metadata": {
    "slideshow": {
     "slide_type": "fragment"
    }
   },
   "outputs": [
    {
     "name": "stdout",
     "output_type": "stream",
     "text": [
      "2는 짝수\n",
      "4는 짝수\n",
      "[11]\n",
      "[11, 12]\n",
      "[11, 12, 13]\n",
      "[11, 12, 13, 14]\n",
      "[11, 12, 13, 14, 19]\n",
      "[11, 12, 13, 14, 19, 19]\n"
     ]
    },
    {
     "data": {
      "text/plain": [
       "[1, 2, 3, 4, 9]"
      ]
     },
     "execution_count": 19,
     "metadata": {},
     "output_type": "execute_result"
    }
   ],
   "source": [
    "l = [1,2,3,4,9,9]\n",
    "for v in l :\n",
    "    if v % 2 == 0 :\n",
    "        print(f\"{v}는 짝수\")\n",
    "\n",
    "result = []\n",
    "for v in l :\n",
    "    result.append(v + 10)\n",
    "    print(result)\n",
    "result\n",
    "\n",
    "result2 = []\n",
    "for v in l :\n",
    "    if v not in result2 :\n",
    "        result2.append(v)\n",
    "result2"
   ]
  },
  {
   "cell_type": "markdown",
   "id": "04f12e55",
   "metadata": {
    "slideshow": {
     "slide_type": "subslide"
    }
   },
   "source": [
    "## for in 문\n",
    "\n",
    "-   Iterable 객체를 순환조회 할 때 사용한다.\n",
    "    -   for in문은 Iterable 타입의 객체가 가지고 있는 값들을 하나씩 처리하는 구문을 작성할 때 사용한다.\n",
    "\n",
    "> -   **Iterable**\n",
    ">     -   반복가능한 객체. 반복문(for in)을 이용해 일련의 값들을 반복적으로 각각 제공하는 객체를 말한다.\n",
    ">     -   대표적으로 List, Tuple, Dictionary, Set, 문자열 등이 있다.\n",
    "\n",
    "### 구문\n",
    "\n",
    "```python\n",
    "for 변수 in Iterable: # for in 선언후 : 으로 선언부와 구현부를 나눈다.\n",
    "    반복구문          # Iterable이 반복시 제공하는 값을 가지는 \"변수\"를 이용해 값들을 처리하는 구문을 코드블록으로 작성한다.\n",
    "    반복구문\n",
    "```\n"
   ]
  },
  {
   "cell_type": "code",
   "execution_count": 29,
   "id": "da0ce0f6",
   "metadata": {
    "slideshow": {
     "slide_type": "fragment"
    }
   },
   "outputs": [
    {
     "name": "stdout",
     "output_type": "stream",
     "text": [
      "key : a value : 10\n",
      "key : b value : 20\n",
      "key : c value : 30\n"
     ]
    }
   ],
   "source": [
    "d = {\"a\": 10, \"b\": 20, \"c\": 30}\n",
    "for k, v in d.items() :     ##원소가 iterable인 경우 원소 갯수만큼 변수를 선언해서 개별적으로 받을 수 있다.\n",
    "    print(\"key : {} value : {}\".format(k,v)) "
   ]
  },
  {
   "cell_type": "markdown",
   "id": "1f30cd6f",
   "metadata": {
    "slideshow": {
     "slide_type": "subslide"
    }
   },
   "source": [
    "## continue와 break를 이용한 반복문 제어\n",
    "\n",
    "-   **continue**\n",
    "    -   실행 블록에서 continue가 실행되면 현재 반복을 중단하고 다음 반복을 진행한다.\n",
    "    -   특정 조건에서 처리를 멈추고 다음 처리를 반복할 때 사용한다.\n",
    "-   **break**\n",
    "    -   반복문 실행을 중단한다.\n",
    "    -   특정 조건에서 반복문을 중간에 중지할때 사용한다.\n",
    "-   continue와 break는 특정 조건에서 실행되야 하는 경우가 대부분이므로 if문 안에 작성한다.\n"
   ]
  },
  {
   "cell_type": "code",
   "execution_count": 34,
   "id": "90c41e9f",
   "metadata": {
    "slideshow": {
     "slide_type": "fragment"
    }
   },
   "outputs": [
    {
     "name": "stdout",
     "output_type": "stream",
     "text": [
      "종료하려면 'quit'을 입력\n",
      "숫자가 아닙니다. 다른 숫자를 입력해주세요\n",
      "['2', '3', '4', '5', '6']\n"
     ]
    }
   ],
   "source": [
    "print(\"종료하려면 'quit'을 입력\")\n",
    "v = input(\"숫자:\")\n",
    "l = []\n",
    "while v != \"quit\" :\n",
    "    if not v.isdigit():\n",
    "        print(\"숫자가 아닙니다. 다른 숫자를 입력해주세요\")\n",
    "        v = input(\"숫자:\")\n",
    "        continue\n",
    "    l.append(v)\n",
    "    v = input(\"숫자를 계속 입력\")\n",
    "print(l)"
   ]
  },
  {
   "cell_type": "code",
   "execution_count": 47,
   "id": "e34da0eb",
   "metadata": {},
   "outputs": [
    {
     "name": "stdout",
     "output_type": "stream",
     "text": [
      "종료\n"
     ]
    }
   ],
   "source": [
    "import random\n",
    "\n",
    "pos_values = []\n",
    "neg_values = []\n",
    "p = 0\n",
    "while True:\n",
    "    v = random.randint(-100, 100)\n",
    "    if v>0:\n",
    "        pos_values.append(v)\n",
    "    elif v<0:\n",
    "        neg_values.append(v)\n",
    "    else : #0이면\n",
    "        break\n",
    "    p += 1\n",
    "pos_values[0]\n",
    "print(\"종료\")"
   ]
  },
  {
   "cell_type": "code",
   "execution_count": 56,
   "id": "68025d87",
   "metadata": {},
   "outputs": [
    {
     "name": "stdout",
     "output_type": "stream",
     "text": [
      "1, 2, 3, 4, 5, 6, 7, 8, 9, "
     ]
    }
   ],
   "source": [
    "for v in range(1, 10) :\n",
    "    print(v,end=\", \")"
   ]
  },
  {
   "cell_type": "markdown",
   "id": "dc6099c5",
   "metadata": {
    "slideshow": {
     "slide_type": "slide"
    }
   },
   "source": [
    "## for in 문 연관 내장 함수\n",
    "\n",
    "### range()\n",
    "\n",
    "-   일정한 간격의 연속된 정수를 제공하는 반복가능 객체 생성한다.\n",
    "-   구문\n",
    "    -   `range([시작값], 멈춤값, [증감값])`\n",
    "        -   시작값, 멈춤값, 증감값 모두 정수만 가능하다.\n",
    "        -   시작값 > 멈춤값 이고 증감값이 음수이면 내림차순으로 값을 제공한다.\n",
    "        1. 전달값이 **1개: 멈춤값**.\n",
    "            - 0 ~ (멈춤값-1)까지 1씩 증가하는 정수를 제공\n",
    "        2. 전달값이 **2개: 시작값, 멈춤값**.\n",
    "            - 시작값 ~ (멈춤값-1) 까지 1씩 증가하는 정수 제공\n",
    "        3. 전달값이 **3개: 시작값, 멈춤값, 증감값(간격)**.\n",
    "            - 시작값 ~ (멈춤값-1)까지 증감값만큼 증가하는 정수를 제공.\n"
   ]
  },
  {
   "cell_type": "code",
   "execution_count": 59,
   "id": "352d937b",
   "metadata": {
    "slideshow": {
     "slide_type": "fragment"
    }
   },
   "outputs": [
    {
     "name": "stdout",
     "output_type": "stream",
     "text": [
      "200, 150, 100, 50, 0, -50, -100, -150, 0, 1, 2, 3, 4, "
     ]
    }
   ],
   "source": [
    "for v in range(200,-200,-50) :\n",
    "    print(v, end=\", \")\n",
    "l = [4,5,6,7,8]\n",
    "for v in range(len(l)) :\n",
    "    print(v, end =\", \")"
   ]
  },
  {
   "cell_type": "markdown",
   "id": "5de9d74e",
   "metadata": {
    "slideshow": {
     "slide_type": "subslide"
    }
   },
   "source": [
    "### enumerate()\n",
    "\n",
    "-   구문\n",
    "    -   `enumerate(Iterable,  [, start=정수])`\n",
    "        -   현재 몇번째 값을 제공하는 지(현재 몇번째 반복인지)를 나타내는 **index**와 제공하는 **원소**를 tuple로 묶어서 반환\n",
    "        -   Iterable\n",
    "            -   값을 제공할 Iterable객체\n",
    "        -   start: 정수\n",
    "            -   index 시작 값. 생략하면 0부터 시작한다.\n"
   ]
  },
  {
   "cell_type": "code",
   "execution_count": 72,
   "id": "33dd96c5",
   "metadata": {
    "slideshow": {
     "slide_type": "fragment"
    }
   },
   "outputs": [
    {
     "name": "stdout",
     "output_type": "stream",
     "text": [
      "6 1\n",
      "7 2\n",
      "8 3\n",
      "9 4\n",
      "10 5\n",
      "11 6\n",
      "12 7\n",
      "13 8\n",
      "14 9\n",
      "15 10\n"
     ]
    }
   ],
   "source": [
    "a = list(range(1,11))\n",
    "for index,value in enumerate(a, start=6) :\n",
    "    print(index, value)"
   ]
  },
  {
   "cell_type": "markdown",
   "id": "f5a5540f",
   "metadata": {
    "slideshow": {
     "slide_type": "subslide"
    }
   },
   "source": [
    "### zip()\n",
    "\n",
    "-   여러 개의 Iterable 객체를 받아 반복시 같은 index의 값끼리 튜플로 묶어 반환한다.\n",
    "-   구문\n",
    "    -   `zip(Iterable1, Iterable2, Iterable3 [, .......])`\n",
    "        -   Iterable 2개이상.전달한다.\n",
    "-   각 Iterable이 제공하는 원소의 개수가가 다를 경우 가장 적은 것의 개수에 맞춰 반복한다.\n"
   ]
  },
  {
   "cell_type": "code",
   "execution_count": 89,
   "id": "1b99057f",
   "metadata": {
    "slideshow": {
     "slide_type": "fragment"
    }
   },
   "outputs": [
    {
     "name": "stdout",
     "output_type": "stream",
     "text": [
      "홍길동 23 서울\n",
      "이순신 40 부산\n",
      "유관순 50 수원\n",
      "강감찬 60 대구\n",
      "[{'name': '홍길동', 'age': 23, 'addresses': '서울'}, {'name': '이순신', 'age': 40, 'addresses': '부산'}, {'name': '유관순', 'age': 50, 'addresses': '수원'}, {'name': '강감찬', 'age': 60, 'addresses': '대구'}]\n"
     ]
    }
   ],
   "source": [
    "names=[\"홍길동\",\"이순신\", \"유관순\", \"강감찬\",\"에이밍\"]\n",
    "ages = [23,40,50,60,70]\n",
    "addresses = [\"서울\",\"부산\",\"수원\",\"대구\"]\n",
    "for v1, v2, v3 in zip(names,ages,addresses) :\n",
    "    print(v1, v2, v3)\n",
    "info_list = []\n",
    "for names, ages, addresses in zip(names,ages,addresses) :\n",
    "    #한 사람의 정보를 dict에 담아서 저장\n",
    "    info = {\"name\":names, \"age\":ages, \"addresses\":addresses}\n",
    "    info_list.append(info)\n",
    "print(info_list)"
   ]
  },
  {
   "cell_type": "markdown",
   "id": "2df89dae",
   "metadata": {
    "slideshow": {
     "slide_type": "subslide"
    }
   },
   "source": [
    "# 컴프리헨션(Comprehension)\n",
    "\n",
    "-   기존 Iterable의 원소들을 이용해서 새로운 자료구조(List, Dictionary, Set)를 생성하는 구문.\n",
    "    -   기존 Iterable의 **원소들을 처리한 결과**나 **특정 조건이 True인 값들을** 새로운 자료구조에 넣을때 사용.\n",
    "    -   결과를 넣을 새로운 자료구조 타입에 따라 다음 세가지가 있다.\n",
    "        -   리스트 컴프리헨션\n",
    "        -   딕셔너리 컴프리헨션\n",
    "        -   셋 컴프리헨션\n",
    "- **튜플 컴프리헨션**은 tuple() 함수를 이용해서 만든다.\n",
    "-   **딕셔너리 컴프리헨션**과 **셋 컴프리헨션**은 파이썬 3 에 새로 추가되었다.\n",
    "-   컴프리헨션 문법은 iterable 을 타입을 넣는 곳에서는 다 적용할 수있다.\n"
   ]
  },
  {
   "cell_type": "code",
   "execution_count": 107,
   "id": "e04827d9",
   "metadata": {
    "slideshow": {
     "slide_type": "fragment"
    }
   },
   "outputs": [
    {
     "data": {
      "text/plain": [
       "[1, 2, 3, 4, 5, 6]"
      ]
     },
     "execution_count": 107,
     "metadata": {},
     "output_type": "execute_result"
    }
   ],
   "source": [
    "l = list(range(1,11))\n",
    "l2 = list()#l의 원소들의 값들을 10배한 것을 저장\n",
    "for v in l:\n",
    "    l2.append(v * 10)\n",
    "l3 = [v * 10 for v in l]\n",
    "l4 = {v * 10 for v in l} ## 셋 컴프리헨션\n",
    "l5 = {v : v * 10 for v in l} ## 딕셔너리 컴프리헨션\n",
    "l6 = {v+1 : v * 10 for v in l} ## 딕셔너리 컴프리헨션\n",
    "\n",
    "l7 = []\n",
    "l7 = [ v for v in l if v %2 == 0] ## l의 리스트 값중에 l을 2로 나눈몫이 0인 것들만 추려냄\n",
    "l8 = [] \n",
    "l8 = [ v * 2 for v in l if v %2 == 0]# l7 결과에 곱하기 2한거만 저장\n",
    "l8\n",
    "\n",
    "(v * 2 for v in l if v %2 == 0) # 제너레이터 컴프리헨션. generator 표현식.\n",
    "k = tuple(v * 2 for v in l if v %2 == 0)    # 얘가 튜플\n",
    "k\n",
    "\n",
    "l = [\n",
    "    [1,2,3],\n",
    "    [4,5,6]\n",
    "]\n",
    "\n",
    "result = []\n",
    "for vs in l:\n",
    "    for v in vs:\n",
    "        result.append(v)\n",
    "\n",
    "result\n",
    "result2 = [v for vs in l for v in vs]\n",
    "result2"
   ]
  },
  {
   "cell_type": "markdown",
   "id": "092288d7",
   "metadata": {
    "slideshow": {
     "slide_type": "skip"
    }
   },
   "source": [
    "# TODO\n"
   ]
  },
  {
   "cell_type": "code",
   "execution_count": null,
   "id": "a0cc04fa",
   "metadata": {
    "slideshow": {
     "slide_type": "skip"
    }
   },
   "outputs": [
    {
     "name": "stdout",
     "output_type": "stream",
     "text": [
      "사용할 수 있습니다\n"
     ]
    }
   ],
   "source": [
    "# (1) 사용자로 부터 ID를 입력 받은 뒤 입력받은 ID가 5글자 이상이면 \"사용할 수 있습니다.\"를 5글자 미만이면 \"사용할 수 없는 ID입니다.\"를 출력하세요.\n",
    "id_str = (input(\"id를 입력하세요:\")).strip() #strip 함수는 공백제거\n",
    "if len(id_str) >= 5:\n",
    "    print(\"사용할 수 있습니다\")\n",
    "else :\n",
    "    print(\"사용할수없는 ID\")\n",
    "\n",
    "''' 한글자 이상일 경우\n",
    "if id_str:\n",
    "    print(\"사용할 수 있습니다\")\n",
    "'''\n",
    "\n",
    "\n",
    "    \n"
   ]
  },
  {
   "cell_type": "code",
   "execution_count": 19,
   "id": "52a30921",
   "metadata": {},
   "outputs": [
    {
     "name": "stdout",
     "output_type": "stream",
     "text": [
      "여주은 특별시나 광역시가 아닙니다.\n"
     ]
    }
   ],
   "source": [
    "# (2) 사용자로부터 우리나라 도시명을 입력 받은 뒤 입력받은 도시명이 서울이면 \"특별시\"를 인천,부산,광주,대구,대전,울산 이면 \"광역시\"를 나머지는 \"특별시나 광역시가 아닙니다.\"를 출력하세요.\n",
    "city_str = (input(\"도시명을 입력하세요:\"))\n",
    "if city_str == '서울' :\n",
    "    print(\"특별시\")\n",
    "elif city_str in [\"인천\", \"부산\", \"광주\", \"대구\", \"대전\", \"울산\"]:\n",
    "    print(\"광역시\")\n",
    "else :\n",
    "    print(f\"{city_str}은 특별시나 광역시가 아닙니다.\")\n",
    "\n",
    "\n"
   ]
  },
  {
   "cell_type": "code",
   "execution_count": 34,
   "id": "bfc18da1",
   "metadata": {},
   "outputs": [
    {
     "name": "stdout",
     "output_type": "stream",
     "text": [
      "89.0\n"
     ]
    }
   ],
   "source": [
    "\n",
    "# (3-4)\n",
    "# (3) 아래 리스트의 평균을 구하시오.\n",
    "jumsu = [100, 90, 100, 80, 70, 100, 80, 90, 95, 85]\n",
    "sum = 0\n",
    "for i in jumsu:\n",
    "    sum += i\n",
    "average = sum/len(jumsu)\n",
    "print(average)"
   ]
  },
  {
   "cell_type": "code",
   "execution_count": null,
   "id": "c922e16d",
   "metadata": {},
   "outputs": [
    {
     "name": "stdout",
     "output_type": "stream",
     "text": [
      "1번째 학생은 pass\n",
      "2번째 학생은 pass\n",
      "3번째 학생은 pass\n",
      "4번째 학생은 fail\n",
      "5번째 학생은 fail\n",
      "6번째 학생은 pass\n",
      "7번째 학생은 fail\n",
      "8번째 학생은 pass\n",
      "9번째 학생은 pass\n",
      "10번째 학생은 fail\n"
     ]
    }
   ],
   "source": [
    "\n",
    "# (4) 위 jumsu리스트에서 평균점수이상은 pass, 미만은 fail을 index번호와 함께 출력하시오. (ex: 0-pass, 1-pass, 2-fail)\n",
    "j = 0\n",
    "\n",
    "## for문 이용\n",
    "'''\n",
    "for i in jumsu:\n",
    "    if i >= average:\n",
    "        print(\"pass\")\n",
    "    else :\n",
    "        print(f\"{j}번째 학생은 fail\")\n",
    "    j += 1\n",
    "'''\n",
    "\n",
    "## enumerate 함수 이용.\n",
    "jumsu = [100, 90, 100, 80, 70, 100, 80, 90, 95, 85]\n",
    "for index,value in enumerate(jumsu, start=1) :\n",
    "    '''\n",
    "    if value >= average:\n",
    "        print(f\"{index}번째 학생은 pass\")\n",
    "    else :\n",
    "        print(f\"{index}번째 학생은 fail\")\n",
    "        '''\n",
    "    ## 위 코드를 간소화 한 코드임\n",
    "    print(f\"{index}번째 학생은 {\"pass\" if value >= average  else \"fail\"}\")"
   ]
  },
  {
   "cell_type": "code",
   "execution_count": 37,
   "id": "6b867176",
   "metadata": {},
   "outputs": [
    {
     "data": {
      "text/plain": [
       "95"
      ]
     },
     "execution_count": 37,
     "metadata": {},
     "output_type": "execute_result"
    }
   ],
   "source": [
    "\n",
    "# (5) 아래 리스트 값들 중 최대값을 조회해 출력하시오.\n",
    "jumsu2 = [60, 90, 80, 80, 70, 55, 80, 90, 95, 85]\n",
    "'''\n",
    "max = 0\n",
    "for i in jumsu:\n",
    "    if i > max:\n",
    "        max = i\n",
    "print(max)\n",
    "'''\n",
    "del max\n",
    "max_value = max(jumsu2)\n",
    "max_value\n"
   ]
  },
  {
   "cell_type": "code",
   "execution_count": 77,
   "id": "341c2aaa",
   "metadata": {},
   "outputs": [
    {
     "data": {
      "text/plain": [
       "['2 x 1 = 2',\n",
       " '2 x 2 = 4',\n",
       " '2 x 3 = 6',\n",
       " '2 x 4 = 8',\n",
       " '2 x 5 = 10',\n",
       " '2 x 6 = 12',\n",
       " '2 x 7 = 14',\n",
       " '2 x 8 = 16',\n",
       " '2 x 9 = 18',\n",
       " '3 x 1 = 3',\n",
       " '3 x 2 = 6',\n",
       " '3 x 3 = 9',\n",
       " '3 x 4 = 12',\n",
       " '3 x 5 = 15',\n",
       " '3 x 6 = 18',\n",
       " '3 x 7 = 21',\n",
       " '3 x 8 = 24',\n",
       " '3 x 9 = 27',\n",
       " '4 x 1 = 4',\n",
       " '4 x 2 = 8',\n",
       " '4 x 3 = 12',\n",
       " '4 x 4 = 16',\n",
       " '4 x 5 = 20',\n",
       " '4 x 6 = 24',\n",
       " '4 x 7 = 28',\n",
       " '4 x 8 = 32',\n",
       " '4 x 9 = 36',\n",
       " '5 x 1 = 5',\n",
       " '5 x 2 = 10',\n",
       " '5 x 3 = 15',\n",
       " '5 x 4 = 20',\n",
       " '5 x 5 = 25',\n",
       " '5 x 6 = 30',\n",
       " '5 x 7 = 35',\n",
       " '5 x 8 = 40',\n",
       " '5 x 9 = 45',\n",
       " '6 x 1 = 6',\n",
       " '6 x 2 = 12',\n",
       " '6 x 3 = 18',\n",
       " '6 x 4 = 24',\n",
       " '6 x 5 = 30',\n",
       " '6 x 6 = 36',\n",
       " '6 x 7 = 42',\n",
       " '6 x 8 = 48',\n",
       " '6 x 9 = 54',\n",
       " '7 x 1 = 7',\n",
       " '7 x 2 = 14',\n",
       " '7 x 3 = 21',\n",
       " '7 x 4 = 28',\n",
       " '7 x 5 = 35',\n",
       " '7 x 6 = 42',\n",
       " '7 x 7 = 49',\n",
       " '7 x 8 = 56',\n",
       " '7 x 9 = 63',\n",
       " '8 x 1 = 8',\n",
       " '8 x 2 = 16',\n",
       " '8 x 3 = 24',\n",
       " '8 x 4 = 32',\n",
       " '8 x 5 = 40',\n",
       " '8 x 6 = 48',\n",
       " '8 x 7 = 56',\n",
       " '8 x 8 = 64',\n",
       " '8 x 9 = 72',\n",
       " '9 x 1 = 9',\n",
       " '9 x 2 = 18',\n",
       " '9 x 3 = 27',\n",
       " '9 x 4 = 36',\n",
       " '9 x 5 = 45',\n",
       " '9 x 6 = 54',\n",
       " '9 x 7 = 63',\n",
       " '9 x 8 = 72',\n",
       " '9 x 9 = 81']"
      ]
     },
     "execution_count": 77,
     "metadata": {},
     "output_type": "execute_result"
    }
   ],
   "source": [
    "\n",
    "# (6) 사용자로부터 정수를 입력받아 그 정수 단의 구구단을 출력하시오.\n",
    "# ex)\n",
    "# 단을 입력하시오 : 2\n",
    "# 2 x 1 = 2\n",
    "# 2 x 2 = 4\n",
    "# ..\n",
    "# 2 x 9 = 18\n",
    "'''\n",
    "# 컴프리헨션\n",
    "gugudan_int = input(\"정수를 입력하라:\")\n",
    "if gugudan_int.isdigit():\n",
    "    num = int(gugudan_int)\n",
    "else:\n",
    "    print(\"단은 숫자만 입력하시오\")\n",
    "\n",
    "## 1. for in문 이용\n",
    "\n",
    "for i in range(1,10):\n",
    "    print(num * i)\n",
    "\n",
    "\n",
    "## 2. 리스트 컴프리헨션 이용\n",
    "gugudan_list = [f\"{num} x {i} = {i*num}\"  for i in range(1,10)]\n",
    "gugudan_list\n",
    "\n",
    "for i in range(1,10):\n",
    "    for j in range(2,10):\n",
    "        print(f\"{j} x {i} = {i * j}\", end=\"   \")\n",
    "    print(\"\\n\")\n",
    "'''\n",
    "real_gugudan = [f\"{i} x {j} = {i * j}\" for i in range(2,10) for j in range(1,10)]\n",
    "real_gugudan"
   ]
  },
  {
   "cell_type": "code",
   "execution_count": 79,
   "id": "bd5a0542",
   "metadata": {},
   "outputs": [
    {
     "data": {
      "text/plain": [
       "[(10, 100),\n",
       " (30, 300),\n",
       " (70, 700),\n",
       " (5, 50),\n",
       " (5, 50),\n",
       " (120, 1200),\n",
       " (700, 7000),\n",
       " (1, 10),\n",
       " (35, 350),\n",
       " (35, 350)]"
      ]
     },
     "execution_count": 79,
     "metadata": {},
     "output_type": "execute_result"
    }
   ],
   "source": [
    "\n",
    "# (7) 다음 리스트의 원소들에 10배한 값을 (원래값, 10배값) 의 튜플 묶음으로 가지는 리스트를 만드시오 (리스트 컴프리헨션 이용)\n",
    "# Ex) [(10,100), (30,300), .., (35, 350)]\n",
    "lst = [10, 30, 70, 5, 5, 120, 700, 1, 35, 35]\n",
    "multiply10_lst = [(i,i * 10) for i in lst ]\n",
    "multiply10_lst\n",
    "##for i in range(len(lst)) :\n",
    " ##   multiply10_lst2.append((lst[i], multiply10_lst[i]))\n"
   ]
  },
  {
   "cell_type": "code",
   "execution_count": null,
   "id": "a71fdd34",
   "metadata": {},
   "outputs": [
    {
     "data": {
      "text/plain": [
       "[3, 33, 21, 33, 60, 120]"
      ]
     },
     "execution_count": 83,
     "metadata": {},
     "output_type": "execute_result"
    }
   ],
   "source": [
    "\n",
    "# (8) 다음 리스트가 가진 값들 중 3의 배수만 가지는 리스트를 만드시오. (리스트 컴프리헨션 이용)\n",
    "lst2 = [3, 20, 33, 21, 33, 8, 11, 10, 7, 17, 60, 120, 2]\n",
    "'''\n",
    "lst2_3 = [i for i in lst2 if i%3 == 0]\n",
    "lst2_3\n",
    "'''\n",
    "result = []\n",
    "for v in lst2:\n",
    "    if v % 3 == 0:\n",
    "        result.append(v)\n",
    "result"
   ]
  },
  {
   "cell_type": "code",
   "execution_count": 84,
   "id": "cb06dc15",
   "metadata": {},
   "outputs": [
    {
     "data": {
      "text/plain": [
       "['a.exe', 'function.exe', 'b.exe', 'run.exe']"
      ]
     },
     "execution_count": 84,
     "metadata": {},
     "output_type": "execute_result"
    }
   ],
   "source": [
    "\n",
    "# (9)) 다음 파일이름들을 담은 리스트에서 확장자가 exe인 파일만 골라서 새로운 리스트에 담으시오.(string의 endswith()함수 이용)\n",
    "file_names = [\n",
    "    \"test.txt\",\n",
    "    \"a.exe\",\n",
    "    \"jupyter.bat\",\n",
    "    \"function.exe\",\n",
    "    \"b.exe\",\n",
    "    \"cat.jpg\",\n",
    "    \"dog.png\",\n",
    "    \"run.exe\",\n",
    "    \"i.dll\",\n",
    "]\n",
    "file_names_exe = [i for i in file_names if i.endswith('.exe')]\n",
    "file_names_exe\n"
   ]
  },
  {
   "cell_type": "code",
   "execution_count": null,
   "id": "fe999f08",
   "metadata": {},
   "outputs": [
    {
     "data": {
      "text/plain": [
       "{'mystroy.txt': 11, 'jupyter.bat': 11, 'function.exe': 12}"
      ]
     },
     "execution_count": 86,
     "metadata": {},
     "output_type": "execute_result"
    }
   ],
   "source": [
    "\n",
    "\n",
    "# (10) 다음 중 10글자 이상인 파일명(확장자포함)만 가지는 리스트를 만드시오.\n",
    "file_names = [\n",
    "    \"mystroy.txt\",\n",
    "    \"a.exe\",\n",
    "    \"jupyter.bat\",\n",
    "    \"function.exe\",\n",
    "    \"b.exe\",\n",
    "    \"cat.jpg\",\n",
    "    \"dog.png\",\n",
    "    \"run.exe\",\n",
    "    \"i.dll\",\n",
    "]\n",
    "file_names_ten = [i for i in file_names if len(i)>= 10]\n",
    "file_names_ten\n",
    "\n",
    "# 딕셔너리로 중복 제거\n",
    "file_names_ten2 = {i : len(i) for i in file_names if len(i)>= 10}\n",
    "file_names_ten2"
   ]
  }
 ],
 "metadata": {
  "kernelspec": {
   "display_name": "Python 3",
   "language": "python",
   "name": "python3"
  },
  "language_info": {
   "codemirror_mode": {
    "name": "ipython",
    "version": 3
   },
   "file_extension": ".py",
   "mimetype": "text/x-python",
   "name": "python",
   "nbconvert_exporter": "python",
   "pygments_lexer": "ipython3",
   "version": "3.13.7"
  },
  "toc": {
   "base_numbering": 1,
   "nav_menu": {},
   "number_sections": true,
   "sideBar": true,
   "skip_h1_title": false,
   "title_cell": "Table of Contents",
   "title_sidebar": "Contents",
   "toc_cell": false,
   "toc_position": {},
   "toc_section_display": true,
   "toc_window_display": false
  },
  "varInspector": {
   "cols": {
    "lenName": 16,
    "lenType": 16,
    "lenVar": 40
   },
   "kernels_config": {
    "python": {
     "delete_cmd_postfix": "",
     "delete_cmd_prefix": "del ",
     "library": "var_list.py",
     "varRefreshCmd": "print(var_dic_list())"
    },
    "r": {
     "delete_cmd_postfix": ") ",
     "delete_cmd_prefix": "rm(",
     "library": "var_list.r",
     "varRefreshCmd": "cat(var_dic_list()) "
    }
   },
   "types_to_exclude": [
    "module",
    "function",
    "builtin_function_or_method",
    "instance",
    "_Feature"
   ],
   "window_display": false
  }
 },
 "nbformat": 4,
 "nbformat_minor": 5
}
