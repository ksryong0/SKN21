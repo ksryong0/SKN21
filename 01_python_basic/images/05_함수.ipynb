{
 "cells": [
  {
   "cell_type": "code",
   "execution_count": null,
   "metadata": {},
   "outputs": [],
   "source": [
    "def a():\n",
    "    print(\"하이\")\n",
    "a()"
   ]
  },
  {
   "cell_type": "markdown",
   "metadata": {
    "slideshow": {
     "slide_type": "slide"
    }
   },
   "source": [
    "## 함수 정의\n",
    "\n",
    "-   함수를 구현하고 그것을 **파이썬 실행환경에** 새로운 기능으로 **등록하는** 과정을 말한다.\n",
    "\n",
    "### 함수 구현\n",
    "\n",
    "-   함수의 선언부와 구현부로 나누어진다\n",
    "    -   함수의 선언부(Header) : 함수의 이름과 입력값을 받을 변수(Parameter, 매개변수)를 지정한다.\n",
    "    -   함수의 구현부(Body) : 함수가 호출 되었을 때 실행할 실행문들을 순서대로 작성한다.\n"
   ]
  },
  {
   "cell_type": "markdown",
   "metadata": {
    "slideshow": {
     "slide_type": "fragment"
    }
   },
   "source": [
    "```python\n",
    "def 함수이름( [변수, 변수, ..]):  # 선언 부(Header)\n",
    "    # 구현 부(body)\n",
    "    실행구문1\n",
    "    실행구문2\n",
    "    실행구문3\n",
    "    …\n",
    "    [return [결과값]]\n",
    "```\n",
    "\n",
    "-   함수 선언 마지막에는 `:` 을 넣어 구현부와 구분한다.\n",
    "-   Parameter(매개변수)는 argument(호출하는 곳에서 전달하는 함수의 입력값)를 받기 위한 변수로 0개 이상 선언할 수 있다.\n",
    "-   함수의 실행구문은 코드블록으로 들여쓰기로 블록을 묶어준다.\n",
    "    -   들여쓰기는 보통 공백 4칸을 사용한다.\n",
    "-   함수의 처리 결과값이 있을 경우 **return 구문**을 넣고 없을 경우 return은 생략할 수 있다.\n",
    "-   **함수이름 관례**\n",
    "    -   함수이름은 보통 동사형으로 만든다.\n",
    "    -   Snake 표기법사용: 모두 소문자로 하고 여러단어로 구성할 경우 각 단어들을 `_`로 연결한다. (변수와 동일)\n"
   ]
  },
  {
   "cell_type": "code",
   "execution_count": null,
   "metadata": {
    "slideshow": {
     "slide_type": "fragment"
    }
   },
   "outputs": [],
   "source": [
    "def greet():\n",
    "    print(\"greet\")\n",
    "    print(\"반갑\")\n",
    "greet()"
   ]
  },
  {
   "cell_type": "code",
   "execution_count": null,
   "metadata": {
    "slideshow": {
     "slide_type": "fragment"
    }
   },
   "outputs": [],
   "source": []
  },
  {
   "cell_type": "markdown",
   "metadata": {
    "slideshow": {
     "slide_type": "subslide"
    }
   },
   "source": [
    "## 함수 parameter와 return value\n",
    "\n",
    "-   **parameter:** 함수가 호출하는 곳으로 부터 입력받는 값을 저장하는 변수.\n",
    "    -   **arugument:**  호출할 때 파라미터에 전달 하는 값.\n",
    "-   **return value:** 함수의 처리결과로 호출하는 곳에 전달(반환)하는 값.\n",
    "\n",
    "### return value(반환값)\n",
    "\n",
    "-   함수가 호출받아 처리한 결과값으로 호출한 곳으로 반환하는 값이다.\n",
    "-   함수 구현부에 return \\[값\\] 구문을 사용해 반환한다.\n",
    "    -   **return**\n",
    "        -   함수가 정상적으로 끝났고 호출한곳으로 돌아간다.\n",
    "        -   보통은 함수 구현의 마지막에 넣지만 경우에 따라 중간에 올 수 있다.\n",
    "    -   return 반환값\n",
    "        -   호출한 곳으로 값을 가지고 돌아간다. (반환한다)\n",
    "        -   반환값이 없을 경우 None을 반환한다.\n",
    "        -   함수에 return 구문이 없을 경우 마지막에 return None이 실행된다.\n",
    "-   여러개의 값을 return 하는 경우 자료구조로 묶어서 전달해야한다.\n",
    "    -   함수는 한개의 값만 반환할 수 있다.\n"
   ]
  },
  {
   "cell_type": "code",
   "execution_count": null,
   "metadata": {
    "slideshow": {
     "slide_type": "fragment"
    }
   },
   "outputs": [],
   "source": []
  },
  {
   "cell_type": "code",
   "execution_count": null,
   "metadata": {
    "slideshow": {
     "slide_type": "fragment"
    }
   },
   "outputs": [],
   "source": []
  },
  {
   "cell_type": "markdown",
   "metadata": {
    "slideshow": {
     "slide_type": "slide"
    }
   },
   "source": [
    "## Parameter (매개변수)\n",
    "\n",
    "### 기본값이 있는 Parameter\n",
    "\n",
    "-   매개변수에 값을 대입하는 구문을 작성하면 호출할 때 argument 가 넘어오지 않으면 대입해놓은 기본값을 사용한다.\n",
    "-   함수 정의시 기본값 없는 매개변수, 있는 매개변수를 같이 선언할 수 있다.\n",
    "    -   **이때 기본값 없는 매개변수들을 선언하고 그 다음에 기본값 있는 매개변수들을 선언한다.**\n"
   ]
  },
  {
   "cell_type": "code",
   "execution_count": null,
   "metadata": {
    "slideshow": {
     "slide_type": "fragment"
    }
   },
   "outputs": [],
   "source": []
  },
  {
   "cell_type": "code",
   "execution_count": null,
   "metadata": {},
   "outputs": [],
   "source": [
    "def print_info(name):\n",
    "    print(f\"이름: {name}\")\n",
    "print_info(\"홍길동\")\n",
    "\n",
    "def print_info2(name=None):\n",
    "    print(f\"이름 : {name}\")\n",
    "print_info2(\"이순신\")\n",
    "print_info2()\n",
    "\n",
    "#id, pwd, name은 caller(호출하는 곳)에서 반드시 넘겨받아야 한다. age, tall은 안받을수도있다.\n",
    "def print_info3(id, pwd, name, age=None, tall=None):\n",
    "    print(f\"id : {id}, 비번 : {pwd}, 이름 : {name}, 나이 : {age}, 키 : {tall}\")\n",
    "print_info3(\"나\",\"123\",\"나나\")\n",
    "print_info3(\"나\",\"123\",\"나나\",33)\n",
    "\n",
    "def print_info5(id, pwd, name, age=None, tall=None):\n",
    "    print(f\"id : {id}, 비번 : {pwd}, 이름 : {name}, 나이 : {age}, 키 : {tall}\")\n",
    "# keyword argument : 파라미터 순서는 다르지만 직접 지정해줌\n",
    "print_info5(pwd=\"5555\",age=\"99\",name=\"이이름\", tall=203, id=\"myname\")\n",
    "\n",
    "def print_info6(id=None, pwd=None, name=None, age=None, tall=None):\n",
    "    print(f\"id : {id}, 비번 : {pwd}, 이름 : {name}, 나이 : {age}, 키 : {tall}\")\n",
    "print_info6()\n",
    "\n",
    "def print_info7(id=None, pwd=None, name=None, age=None, tall=None):\n",
    "    print(f\"id : {id}, 비번 : {pwd}, 이름 : {name}, 나이 : {age}, 키 : {tall}\")\n",
    "print_info7(\"아디\")\n",
    "print_info7(\"id\",\"111111\",tall=90)\n",
    "\n",
    "def print_info7(id, pwd, name, age, tall, Default=None):\n",
    "    print(f\"id : {id}, 비번 : {pwd}, 이름 : {name}, 나이 : {age}, 키 : {tall}\")\n",
    "##print_info7(\"아디\")\n",
    "print_info7()\n",
    "\n",
    "\n",
    "\n"
   ]
  },
  {
   "cell_type": "markdown",
   "metadata": {
    "slideshow": {
     "slide_type": "subslide"
    }
   },
   "source": [
    "### Positional argument와 Keyword argument\n",
    "\n",
    "-   Argument는 함수/메소드를 호출할 때 전달하는 입력값을 말한다.\n",
    "    -   Argument는 전달하는 값이고 Parameter는 그 값을 저장하는 변수\n",
    "-   Positional argument\n",
    "    -   함수 호출 할때 argument(전달인자)를 Parameter 순서에 맞춰 값을 넣어서 호출.\n",
    "-   keyword argument\n",
    "    -   함수 호출할 때 argument를 `Parameter변수명 = 전달할값` 형식으로 선언해서 어떤 parameter에 어떤 값을 전달할 것인지 지정해서 호출.\n",
    "    -   순서와 상관없이 호출하는 것이 가능.\n",
    "    -   parameter가 많고 대부분 기본값이 있는 함수 호출 할 때 뒤 쪽에 선언된 parameter에만 값을 전달하고 싶을 경우 유용하다.\n"
   ]
  },
  {
   "cell_type": "code",
   "execution_count": null,
   "metadata": {
    "slideshow": {
     "slide_type": "fragment"
    }
   },
   "outputs": [],
   "source": []
  },
  {
   "cell_type": "markdown",
   "metadata": {
    "slideshow": {
     "slide_type": "subslide"
    }
   },
   "source": [
    "### 가변인자(Variable Length Argument)\n",
    "- 가변인자(Variable Length Argument)는 함수 정의 시 argument의 개수를 미리 지정하지 않고, 호출할 때 그 개수를 정해서 인자를 전달할 수 있도록 하는 방법이다.\n",
    "#### 가변인자의 종류\n",
    "##### 위치 가변 인자 (`*args`)\n",
    "- 여러 개의 **위치 기반 인자(Positional argument)**를 하나의 튜플로 받아 처리한다.  \n",
    "- 함수 정의 시 `*args` 형태로 사용하며, 호출 할 때 전달할 값들을 위치 기반 인자(Positional argument)로 전달한다.\n",
    "- `*` 뒤의 변수명은 아무거나 사용 가능하지만 관례적으로 `args`를 사용한다.\n",
    "##### 키워드 가변 인자 (`**kwargs`)\n",
    "- 여러 개의 **키워드 인자**를 하나의 딕셔너리로 받아 처리한다.  \n",
    "- 함수 정의 시 `**kwargs` 형태로 사용하며, 호출 시 `key=value` 형태로 전달한다.  \n",
    "- `**` 뒤의 변수명은 아무거나 사용 가능하지만 관례적으로 `kwargs`를 사용한다.  \n",
    "##### 위치\n",
    "- 하나의 함수에 위치 가변 인자와 키워드 가변 인자를 하나씩만 선언 할 수있다.\n",
    "  - 위치 가변 인자와 키워드 가변 인자를 동시에 사용할 수 있으며, 각각 하나씩만 선언할 수 있다.\n",
    "  - 같이 선언할 경우 위치 인자 `*args`를 먼저 선언하고, 키워드 인자 `**kwargs`를 나중에 선언해야 한다.  \n",
    "- 가변인자와 일반 파라미터들을 같이 선언할 수있다.\n",
    "  - 기본값이 없는 파라미터의 경우 위치 가변 인자 앞 또는 뒤에 모두 선언할 수 있다. 단 뒤에 선언할 경우 호출할 때 keyword argument 형식으로 호출해야 한다. \n",
    "  - 키워드 가변인자 뒤에는 어떤 파라미터들도 선언할 수 없다. (일반 파라미터, 가변인자 모두 포함해서)"
   ]
  },
  {
   "cell_type": "code",
   "execution_count": null,
   "metadata": {},
   "outputs": [],
   "source": [
    "def test(*ages):\n",
    "    print(type(ages))\n",
    "    print(ages)\n",
    "    for i in range(0,len(ages)):\n",
    "        print(ages[i])\n",
    "test(1,2,5,43)"
   ]
  },
  {
   "cell_type": "markdown",
   "metadata": {},
   "source": []
  },
  {
   "cell_type": "code",
   "execution_count": null,
   "metadata": {},
   "outputs": [],
   "source": [
    "def test4(*args, **kwargs):\n",
    "    print(args)\n",
    "    print(kwargs)\n",
    "test4(1,2,3,4,a=10, b=20)\n",
    "test4(a=10, b=20,1,2,3,4)"
   ]
  },
  {
   "cell_type": "code",
   "execution_count": null,
   "metadata": {
    "slideshow": {
     "slide_type": "fragment"
    }
   },
   "outputs": [],
   "source": []
  },
  {
   "cell_type": "markdown",
   "metadata": {
    "slideshow": {
     "slide_type": "slide"
    }
   },
   "source": [
    "# 변수의 유효범위\n",
    "\n",
    "-   **지역변수 (local variable)**\n",
    "    -   함수안에 선언된 변수\n",
    "    -   선언된 그 함수 안에서만 사용할 수 있다.\n",
    "-   **전역변수 (global variable)**\n",
    "    -   함수 밖에 선언 된 변수\n",
    "    -   모든 함수들이 공통적으로 사용할 수 있다.\n",
    "    -   하나의 함수에서 값을 변경하면 그 변한 값이 모든 함수에 영향을 주기 때문에 **함부로 변경하지 않는다.**\n",
    "    -   함수내에서 전역변수에 값을 대입하기 위해서는 global 키워드를 이용해 사용할 것을 미리 선언해야 한다.\n",
    "        -   global로 선언하지 않고 함수안에서 전역변수와 이름이 같은 변수에 값을 대입하면 그 변수와 동일한 지역변수을 생성한다.\n",
    "        -   조회할 경우에는 상관없다.\n",
    "            -   함수에서 변수를 조회할 경우 **먼저 지역변수를 찾고 없으면 전역변수를 찾는다.**\n"
   ]
  },
  {
   "cell_type": "code",
   "execution_count": null,
   "metadata": {
    "slideshow": {
     "slide_type": "fragment"
    }
   },
   "outputs": [],
   "source": [
    "name = \"lee\"\n",
    "print(name)\n",
    "name = \"hong\"\n",
    "\n",
    "def fun1(loc=\"서울\"):\n",
    "    age_local = 30\n",
    "    print(\"fun1()\", name)\n",
    "    print(\"fun1()의 지역변수\", loc, age_local) #loc, age_local : 지역변수\n",
    "\n",
    "def fun2():\n",
    "    loc = \"인천\"\n",
    "    age_local = 40\n",
    "    print(\"fun2()\", name)\n",
    "    print(loc, age_local)\n",
    "\n",
    "# fun1()\n",
    "# fun2()\n",
    "def fun3():\n",
    "    name = \"lyu\"    #지역변수 name\n",
    "    print(\"fun3()\", name)\n",
    "fun3()\n",
    "print(\"함수밖: \",name)\n",
    "\n",
    "def fun4():\n",
    "    global name\n",
    "    name = \"유관순\" #global 변수 값을 변경\n",
    "    print(\"fun4():\", name)\n",
    "fun4()"
   ]
  },
  {
   "cell_type": "markdown",
   "metadata": {
    "slideshow": {
     "slide_type": "slide"
    }
   },
   "source": [
    "# 함수는 일급시민(First class citizen) 이다.\n",
    "\n",
    "-   일급 시민\n",
    "    1. 변수에 대입 할 수 있다.\n",
    "    1. **Argument로 사용**할 수 있다.\n",
    "    1. 함수나 메소드의 반환값으로 사용 할 수 있다.\n",
    "-   즉 파이썬에서 함수는 일반 값(객체)으로 취급된다.\n"
   ]
  },
  {
   "cell_type": "code",
   "execution_count": null,
   "metadata": {},
   "outputs": [],
   "source": [
    "a = 10.3\n",
    "def f(x):\n",
    "    return x\n",
    "r = f(a)\n",
    "print(r)\n",
    "\n",
    "def greet():\n",
    "    print(\"아령하세요\")\n",
    "greet() # 함수 호출\n",
    "greet # 함수 자체를 가리킴\n",
    "\n",
    "hello = greet\n",
    "bye = hello\n",
    "bye()\n"
   ]
  },
  {
   "cell_type": "code",
   "execution_count": null,
   "metadata": {},
   "outputs": [],
   "source": [
    "\n",
    "def calc(num1, num2, func):\n",
    "    print(\"받은값:\", num1, num2) # 1번 작업\n",
    "    result = num1 + num2    #2번 작업 - 계산\n",
    "    print(\"계산결과: \",result)  #3번 작업: 계산결과 출력\n",
    "calc(1,2)\n",
    "\n",
    "# 세단계 작업중 1,3번은 고정\n",
    "# 2번 작업->호출하는쪽(caller)이 원하는 연산을 처리\n",
    "# 처리할 값 num1, num2\n",
    "# 처리할 함수 : func"
   ]
  },
  {
   "cell_type": "code",
   "execution_count": null,
   "metadata": {
    "slideshow": {
     "slide_type": "fragment"
    }
   },
   "outputs": [],
   "source": [
    "def calc(num1, num2, func):\n",
    "    print(\"받은값:\", num1, num2) # 1번 작업\n",
    "    result = func(num1, num2)    #2번 작업 - 계산\n",
    "    print(\"계산결과: \",result)  #3번 작업: 계산결과 출력\n",
    "\n",
    "def minus(n1, n2):\n",
    "    return n1-n2\n",
    "calc(100,200, minus)\n",
    "\n",
    "def plus(n1, n2):\n",
    "    return n1+n2\n",
    "calc(100,200, plus)\n"
   ]
  },
  {
   "cell_type": "code",
   "execution_count": null,
   "metadata": {},
   "outputs": [],
   "source": [
    "l =[\"가\", \"나\", \"내가\", \"반가워\", \"배고파요오\",\"나\", \"내가\"]\n",
    "l.sort(reverse=False)\n",
    "print(l)\n",
    "\n",
    "#글자수로 정렬\n",
    "l.sort(key=len)\n",
    "[(v, len(v)) for v in l]\n",
    "\n",
    "def outer():\n",
    "    a = 10\n",
    "    def inner():\n",
    "        print(\"outer 안에 정해나 inner\")\n",
    "    inner()\n",
    "    inner()\n",
    "    inner()\n",
    "    return a\n",
    "b = outer()\n",
    "print(b)\n",
    "b"
   ]
  },
  {
   "cell_type": "markdown",
   "metadata": {
    "slideshow": {
     "slide_type": "slide"
    }
   },
   "source": [
    "## 람다식/람다표현식 (Lambda Expression)\n",
    "\n",
    "-   함수를 표현식(expression)으로 정의한다.\n",
    "-   함수를 하나의 식을 이용해서 정의할때 사용하는 표현식(구문).\n",
    "-   값을 입력받아서 **간단한 처리한 결과**를 반환하는 간단한 함수를 표현식으로 정의할 수 있다.\n",
    "    -   처리결과를 return 하는 구문을 하나의 명령문으로 처리할 수 있을때 람다식을 사용할 수 있다.\n",
    "-   구문\n",
    "\n",
    "```python\n",
    "lambda 매개변수[, 매개변수, ...] : 명령문(구문)\n",
    "```\n",
    "\n",
    "-   명령문(구문)은 하나의 실행문만 가능하다.\n",
    "-   명령문(구문)이 처리한 결과를 리턴해준다.\n",
    "-   **람다식은 함수의 매개변수로 함수를 전달하는 일회성 함수를 만들때 주로 사용한다.**\n"
   ]
  },
  {
   "cell_type": "code",
   "execution_count": null,
   "metadata": {},
   "outputs": [],
   "source": [
    "def plus(num1, num2):\n",
    "    return num1 + num2\n",
    "\n",
    "#위 함수를 람다표현식으로 정의\n",
    "a = lambda num1, num2: num1 + num2\n",
    "c = a(5,2)\n",
    "c\n",
    "\n",
    "def calc(num1, num2, func):\n",
    "    print(\"받은값:\", num1, num2) \n",
    "    result = func(num1,num2) \n",
    "    print(\"계산값:\", result) \n",
    "\n",
    "calc(1,2,lambda num1, num2: num1 + num2)\n",
    "calc(211,321, lambda num1, num2: num1*num2)\n",
    "f = lambda x, y : len(x) > len(y)\n",
    "f(\"aaa\", \"ddd\")"
   ]
  },
  {
   "cell_type": "code",
   "execution_count": null,
   "metadata": {},
   "outputs": [],
   "source": []
  },
  {
   "cell_type": "markdown",
   "metadata": {},
   "source": [
    "# docstring\n",
    "\n",
    "-   함수에 대한 설명\n",
    "-   함수의 구현부의 첫번째에 여러줄 문자열(\"\"\" ~ \"\"\")로 작성한다."
   ]
  },
  {
   "cell_type": "code",
   "execution_count": null,
   "metadata": {},
   "outputs": [],
   "source": [
    "print(\"a aaa\", sep = ',')\n",
    "help(print)"
   ]
  },
  {
   "cell_type": "code",
   "execution_count": null,
   "metadata": {},
   "outputs": [],
   "source": [
    "from typing import Callable\n",
    "\n",
    "def calc(num1:int|float, num2:int|float, func:Callable) -> float | int:\n",
    "    \"\"\"다양한 계산을 하는 함수 #함수설명\n",
    "    Args: #파라미터들 설명\n",
    "        num1 (int | float): 피연산자 1 #변수명(타입):파라미터 설명\n",
    "        num2 (int | float): 피연산자 2\n",
    "        func(callable) : 함수\n",
    "    \n",
    "    Returns : #리턴값\n",
    "        int | float : 계산 결과 #리턴값의 타입 : 설명\n",
    "    \n",
    "    Raise : #발생가능성 있는 예외(에러)\n",
    "        ValueError : 발생 이유  #에러이름(타입) : 발생이유\n",
    "        \n",
    "    \"\"\"\n",
    "    \n",
    "    print(\"받은값:\", num1, num2) \n",
    "    result:int|float = func(num1,num2) \n",
    "    print(\"계산값:\", result) \n",
    "help(calc)"
   ]
  },
  {
   "cell_type": "code",
   "execution_count": null,
   "metadata": {},
   "outputs": [],
   "source": [
    "calc(20, 10, lambda x, y: x + y)\n"
   ]
  },
  {
   "cell_type": "markdown",
   "metadata": {
    "slideshow": {
     "slide_type": "skip"
    }
   },
   "source": [
    "# TODO\n"
   ]
  },
  {
   "cell_type": "code",
   "execution_count": null,
   "metadata": {
    "slideshow": {
     "slide_type": "skip"
    }
   },
   "outputs": [],
   "source": [
    "# 1. 시작 정수, 끝 정수를 받아 그 사이의 모든 정수의 합을 구해서 반환하는 함수를 구현(ex: 1, 20 => 1에서 20 사이의 모든 정수의 합계)\n",
    "sum = 0\n",
    "def sum_num(start_num,end_num) : \n",
    "    global sum\n",
    "    for i in range(start_num, end_num+1):\n",
    "        sum += i\n",
    "    return sum\n",
    "# input_start_num = 0\n",
    "# input_end_num = 0\n",
    "input_start_num = input(\"시작 정수:\")\n",
    "input_end_num = input(\"끝 정수:\")\n",
    "if input_start_num.isdigit():\n",
    "    input_start_num_int = int(input_start_num)\n",
    "else:\n",
    "    print(\"숫자를 입력하시오\")\n",
    "if input_end_num.isdigit():\n",
    "    input_end_num_int = int(input_end_num)\n",
    "else:\n",
    "    print(\"숫자를 입력하시오\")\n",
    "\n",
    "sum_num(input_start_num_int,input_end_num_int)\n",
    "# print(f\"합친 숫자는 {sum_num(input_end_num,input_end_num)}\")\n"
   ]
  },
  {
   "cell_type": "code",
   "execution_count": null,
   "metadata": {},
   "outputs": [],
   "source": [
    "sum = 0\n",
    "# 2. 2번 문제에서 시작을 받지 않은 경우 0을, 끝 정수를 받지 않으면 10이 들어가도록 구현을 변경\n",
    "def sum_num(start_num=0,end_num=10) : \n",
    "    global sum\n",
    "    for i in range(start_num, end_num+1):\n",
    "        sum += i\n",
    "    return sum\n",
    "\n",
    "input_start_num = input(\"시작 정수:\")\n",
    "input_end_num = input(\"끝 정수:\")\n",
    "if input_start_num.isdigit():\n",
    "    input_start_num_int = int(input_start_num)\n",
    "else:\n",
    "    print(\"숫자를 입력하시오\")\n",
    "if input_end_num.isdigit():\n",
    "    input_end_num_int = int(input_end_num)\n",
    "else:\n",
    "    print(\"숫자를 입력하시오\")\n",
    "\n",
    "sum_num(input_start_num_int,input_end_num_int)"
   ]
  },
  {
   "cell_type": "code",
   "execution_count": null,
   "metadata": {},
   "outputs": [],
   "source": [
    "\n",
    "# 3. 구구단을 출력하는 함수를 구현한다. 입력으로 출력하고 싶은 단을 parameter로 입력받아서 `N * 1` ~ `N * 9` 를 출력한다. (N: 입력받은 단)\n",
    "def gugudan(num):\n",
    "    for i in range(1,10):\n",
    "        print(f\"{num} x {i}  = {num * i}\")\n",
    "\n",
    "input_gugudan_num = input(\"숫자:\")\n",
    "if input_gugudan_num.isdigit():\n",
    "    input_gugudan_num_int = int(input_gugudan_num)\n",
    "else:\n",
    "    print(\"숫자를 입력하시오\")\n",
    "gugudan(input_gugudan_num_int)"
   ]
  },
  {
   "cell_type": "code",
   "execution_count": 202,
   "metadata": {},
   "outputs": [
    {
     "name": "stdout",
     "output_type": "stream",
     "text": [
      "키: 1.71\n",
      "키 타입: <class 'float'>\n",
      "몸무게: 78\n",
      "몸무게 타입: <class 'int'>\n",
      "bmi_num :  26.675\n",
      "과체중\n"
     ]
    }
   ],
   "source": [
    "\n",
    "# 4. 체질량 지수는 비만도를 나타내는 지수로 키가 a미터 이고 몸무게가 b kg일때 b/(a**2) 로 구한다.\n",
    "# 체질량 지수가\n",
    "# - 18.5 미만이면 저체중\n",
    "# - 18.5이상 25미만이면 정상\n",
    "# - 25이상이면 과체중\n",
    "# - 30이상이면 비만으로 하는데\n",
    "# 몸무게와 키를 매개변수로 받아 비만인지 과체중인지 반환하는 함수를 구현하시오.\n",
    "import math\n",
    "bmi_num = 0\n",
    "def bmi(a, b):\n",
    "    bmi_num = b/(a**2)\n",
    "    # print(\"bmi_num : \",math.ceil(bmi_num))\n",
    "    print(\"키:\", a)\n",
    "    print(\"키 타입:\", type(a))\n",
    "    print(\"몸무게:\", b)\n",
    "    print(\"몸무게 타입:\", type(b))\n",
    "    print(\"bmi_num : \",round(bmi_num,3))\n",
    "    if bmi_num < 18.5:\n",
    "        print(\"저체중\")\n",
    "    elif bmi_num >= 18.5 and bmi_num < 25:\n",
    "        print(\"정상\")\n",
    "    elif bmi_num >= 25 and bmi_num < 30:\n",
    "        print(\"과체중\")\n",
    "    elif bmi_num >= 30:\n",
    "        print(\"비만\")\n",
    "\n",
    "bmi(1.71, 78)\n",
    "# input_height_num = input(\"키(미터):\")\n",
    "# # input_height_num2 = 0\n",
    "# if input_height_num.isdigit():\n",
    "#     input_height_num2 = float(input_height_num)\n",
    "# else:\n",
    "#     print(\"숫자를 입력하시오\")\n",
    "\n",
    "# input_weight_num = input(\"몸무게:\")\n",
    "# # input_weight_num2 = 0\n",
    "# if input_weight_num.isdigit():\n",
    "#     input_weight_num2 = float(input_weight_num)\n",
    "# else:\n",
    "#     print(\"숫자를 입력하시오\")\n",
    "\n",
    "# bmi(input_height_num2, input_weight_num2)"
   ]
  }
 ],
 "metadata": {
  "kernelspec": {
   "display_name": "Python 3",
   "language": "python",
   "name": "python3"
  },
  "language_info": {
   "codemirror_mode": {
    "name": "ipython",
    "version": 3
   },
   "file_extension": ".py",
   "mimetype": "text/x-python",
   "name": "python",
   "nbconvert_exporter": "python",
   "pygments_lexer": "ipython3",
   "version": "3.13.7"
  },
  "toc": {
   "base_numbering": 1,
   "nav_menu": {},
   "number_sections": true,
   "sideBar": true,
   "skip_h1_title": false,
   "title_cell": "Table of Contents",
   "title_sidebar": "Contents",
   "toc_cell": false,
   "toc_position": {},
   "toc_section_display": true,
   "toc_window_display": false
  },
  "varInspector": {
   "cols": {
    "lenName": 16,
    "lenType": 16,
    "lenVar": 40
   },
   "kernels_config": {
    "python": {
     "delete_cmd_postfix": "",
     "delete_cmd_prefix": "del ",
     "library": "var_list.py",
     "varRefreshCmd": "print(var_dic_list())"
    },
    "r": {
     "delete_cmd_postfix": ") ",
     "delete_cmd_prefix": "rm(",
     "library": "var_list.r",
     "varRefreshCmd": "cat(var_dic_list()) "
    }
   },
   "types_to_exclude": [
    "module",
    "function",
    "builtin_function_or_method",
    "instance",
    "_Feature"
   ],
   "window_display": false
  }
 },
 "nbformat": 4,
 "nbformat_minor": 4
}
