{
 "cells": [
  {
   "cell_type": "markdown",
   "metadata": {},
   "source": [
    "# 데이터 불러오기"
   ]
  },
  {
   "cell_type": "markdown",
   "metadata": {
    "ExecuteTime": {
     "end_time": "2021-03-12T05:10:15.329775Z",
     "start_time": "2021-03-12T05:10:15.314775Z"
    }
   },
   "source": [
    "- 2022년 주유소들의 일자별 가격 데이터\n",
    "- https://www.opinet.co.kr/user/opdown/opDownload.do"
   ]
  },
  {
   "cell_type": "code",
   "execution_count": 85,
   "metadata": {
    "ExecuteTime": {
     "end_time": "2022-06-17T04:38:27.371953Z",
     "start_time": "2022-06-17T04:38:27.353003Z"
    }
   },
   "outputs": [
    {
     "data": {
      "text/html": [
       "<div>\n",
       "<style scoped>\n",
       "    .dataframe tbody tr th:only-of-type {\n",
       "        vertical-align: middle;\n",
       "    }\n",
       "\n",
       "    .dataframe tbody tr th {\n",
       "        vertical-align: top;\n",
       "    }\n",
       "\n",
       "    .dataframe thead th {\n",
       "        text-align: right;\n",
       "    }\n",
       "</style>\n",
       "<table border=\"1\" class=\"dataframe\">\n",
       "  <thead>\n",
       "    <tr style=\"text-align: right;\">\n",
       "      <th></th>\n",
       "      <th>번호</th>\n",
       "      <th>지역</th>\n",
       "      <th>상호</th>\n",
       "      <th>주소</th>\n",
       "      <th>기간</th>\n",
       "      <th>상표</th>\n",
       "      <th>셀프여부</th>\n",
       "      <th>고급휘발유</th>\n",
       "      <th>휘발유</th>\n",
       "      <th>경유</th>\n",
       "      <th>실내등유</th>\n",
       "    </tr>\n",
       "  </thead>\n",
       "  <tbody>\n",
       "    <tr>\n",
       "      <th>0</th>\n",
       "      <td>A0006039</td>\n",
       "      <td>서울 강남구</td>\n",
       "      <td>(유)동하석유 힐탑셀프주유소</td>\n",
       "      <td>서울 강남구 논현로 640</td>\n",
       "      <td>20220101</td>\n",
       "      <td>SK에너지</td>\n",
       "      <td>셀프</td>\n",
       "      <td>1887</td>\n",
       "      <td>1737</td>\n",
       "      <td>1587</td>\n",
       "      <td>0</td>\n",
       "    </tr>\n",
       "    <tr>\n",
       "      <th>1</th>\n",
       "      <td>A0006039</td>\n",
       "      <td>서울 강남구</td>\n",
       "      <td>(유)동하석유 힐탑셀프주유소</td>\n",
       "      <td>서울 강남구 논현로 640</td>\n",
       "      <td>20220102</td>\n",
       "      <td>SK에너지</td>\n",
       "      <td>셀프</td>\n",
       "      <td>1887</td>\n",
       "      <td>1737</td>\n",
       "      <td>1587</td>\n",
       "      <td>0</td>\n",
       "    </tr>\n",
       "    <tr>\n",
       "      <th>2</th>\n",
       "      <td>A0006039</td>\n",
       "      <td>서울 강남구</td>\n",
       "      <td>(유)동하석유 힐탑셀프주유소</td>\n",
       "      <td>서울 강남구 논현로 640</td>\n",
       "      <td>20220103</td>\n",
       "      <td>SK에너지</td>\n",
       "      <td>셀프</td>\n",
       "      <td>1887</td>\n",
       "      <td>1737</td>\n",
       "      <td>1587</td>\n",
       "      <td>0</td>\n",
       "    </tr>\n",
       "    <tr>\n",
       "      <th>3</th>\n",
       "      <td>A0006039</td>\n",
       "      <td>서울 강남구</td>\n",
       "      <td>(유)동하석유 힐탑셀프주유소</td>\n",
       "      <td>서울 강남구 논현로 640</td>\n",
       "      <td>20220104</td>\n",
       "      <td>SK에너지</td>\n",
       "      <td>셀프</td>\n",
       "      <td>1887</td>\n",
       "      <td>1737</td>\n",
       "      <td>1587</td>\n",
       "      <td>0</td>\n",
       "    </tr>\n",
       "    <tr>\n",
       "      <th>4</th>\n",
       "      <td>A0006039</td>\n",
       "      <td>서울 강남구</td>\n",
       "      <td>(유)동하석유 힐탑셀프주유소</td>\n",
       "      <td>서울 강남구 논현로 640</td>\n",
       "      <td>20220105</td>\n",
       "      <td>SK에너지</td>\n",
       "      <td>셀프</td>\n",
       "      <td>1887</td>\n",
       "      <td>1737</td>\n",
       "      <td>1587</td>\n",
       "      <td>0</td>\n",
       "    </tr>\n",
       "    <tr>\n",
       "      <th>...</th>\n",
       "      <td>...</td>\n",
       "      <td>...</td>\n",
       "      <td>...</td>\n",
       "      <td>...</td>\n",
       "      <td>...</td>\n",
       "      <td>...</td>\n",
       "      <td>...</td>\n",
       "      <td>...</td>\n",
       "      <td>...</td>\n",
       "      <td>...</td>\n",
       "      <td>...</td>\n",
       "    </tr>\n",
       "    <tr>\n",
       "      <th>82684</th>\n",
       "      <td>A0009197</td>\n",
       "      <td>서울 중랑구</td>\n",
       "      <td>현대오일뱅크㈜직영 중랑교셀프주유소</td>\n",
       "      <td>서울 중랑구 망우로 229 (중화동)</td>\n",
       "      <td>20220507</td>\n",
       "      <td>현대오일뱅크</td>\n",
       "      <td>셀프</td>\n",
       "      <td>2152</td>\n",
       "      <td>1910</td>\n",
       "      <td>1841</td>\n",
       "      <td>0</td>\n",
       "    </tr>\n",
       "    <tr>\n",
       "      <th>82685</th>\n",
       "      <td>A0009197</td>\n",
       "      <td>서울 중랑구</td>\n",
       "      <td>현대오일뱅크㈜직영 중랑교셀프주유소</td>\n",
       "      <td>서울 중랑구 망우로 229 (중화동)</td>\n",
       "      <td>20220508</td>\n",
       "      <td>현대오일뱅크</td>\n",
       "      <td>셀프</td>\n",
       "      <td>2152</td>\n",
       "      <td>1910</td>\n",
       "      <td>1841</td>\n",
       "      <td>0</td>\n",
       "    </tr>\n",
       "    <tr>\n",
       "      <th>82686</th>\n",
       "      <td>A0009197</td>\n",
       "      <td>서울 중랑구</td>\n",
       "      <td>현대오일뱅크㈜직영 중랑교셀프주유소</td>\n",
       "      <td>서울 중랑구 망우로 229 (중화동)</td>\n",
       "      <td>20220509</td>\n",
       "      <td>현대오일뱅크</td>\n",
       "      <td>셀프</td>\n",
       "      <td>2152</td>\n",
       "      <td>1910</td>\n",
       "      <td>1841</td>\n",
       "      <td>0</td>\n",
       "    </tr>\n",
       "    <tr>\n",
       "      <th>82687</th>\n",
       "      <td>A0009197</td>\n",
       "      <td>서울 중랑구</td>\n",
       "      <td>현대오일뱅크㈜직영 중랑교셀프주유소</td>\n",
       "      <td>서울 중랑구 망우로 229 (중화동)</td>\n",
       "      <td>20220510</td>\n",
       "      <td>현대오일뱅크</td>\n",
       "      <td>셀프</td>\n",
       "      <td>2152</td>\n",
       "      <td>1910</td>\n",
       "      <td>1841</td>\n",
       "      <td>0</td>\n",
       "    </tr>\n",
       "    <tr>\n",
       "      <th>82688</th>\n",
       "      <td>A0009197</td>\n",
       "      <td>서울 중랑구</td>\n",
       "      <td>현대오일뱅크㈜직영 중랑교셀프주유소</td>\n",
       "      <td>서울 중랑구 망우로 229 (중화동)</td>\n",
       "      <td>20220511</td>\n",
       "      <td>현대오일뱅크</td>\n",
       "      <td>셀프</td>\n",
       "      <td>2152</td>\n",
       "      <td>1910</td>\n",
       "      <td>1841</td>\n",
       "      <td>0</td>\n",
       "    </tr>\n",
       "  </tbody>\n",
       "</table>\n",
       "<p>82689 rows × 11 columns</p>\n",
       "</div>"
      ],
      "text/plain": [
       "             번호      지역                  상호                    주소        기간  \\\n",
       "0      A0006039  서울 강남구     (유)동하석유 힐탑셀프주유소        서울 강남구 논현로 640  20220101   \n",
       "1      A0006039  서울 강남구     (유)동하석유 힐탑셀프주유소        서울 강남구 논현로 640  20220102   \n",
       "2      A0006039  서울 강남구     (유)동하석유 힐탑셀프주유소        서울 강남구 논현로 640  20220103   \n",
       "3      A0006039  서울 강남구     (유)동하석유 힐탑셀프주유소        서울 강남구 논현로 640  20220104   \n",
       "4      A0006039  서울 강남구     (유)동하석유 힐탑셀프주유소        서울 강남구 논현로 640  20220105   \n",
       "...         ...     ...                 ...                   ...       ...   \n",
       "82684  A0009197  서울 중랑구  현대오일뱅크㈜직영 중랑교셀프주유소  서울 중랑구 망우로 229 (중화동)  20220507   \n",
       "82685  A0009197  서울 중랑구  현대오일뱅크㈜직영 중랑교셀프주유소  서울 중랑구 망우로 229 (중화동)  20220508   \n",
       "82686  A0009197  서울 중랑구  현대오일뱅크㈜직영 중랑교셀프주유소  서울 중랑구 망우로 229 (중화동)  20220509   \n",
       "82687  A0009197  서울 중랑구  현대오일뱅크㈜직영 중랑교셀프주유소  서울 중랑구 망우로 229 (중화동)  20220510   \n",
       "82688  A0009197  서울 중랑구  현대오일뱅크㈜직영 중랑교셀프주유소  서울 중랑구 망우로 229 (중화동)  20220511   \n",
       "\n",
       "           상표 셀프여부  고급휘발유   휘발유    경유  실내등유  \n",
       "0       SK에너지   셀프   1887  1737  1587     0  \n",
       "1       SK에너지   셀프   1887  1737  1587     0  \n",
       "2       SK에너지   셀프   1887  1737  1587     0  \n",
       "3       SK에너지   셀프   1887  1737  1587     0  \n",
       "4       SK에너지   셀프   1887  1737  1587     0  \n",
       "...       ...  ...    ...   ...   ...   ...  \n",
       "82684  현대오일뱅크   셀프   2152  1910  1841     0  \n",
       "82685  현대오일뱅크   셀프   2152  1910  1841     0  \n",
       "82686  현대오일뱅크   셀프   2152  1910  1841     0  \n",
       "82687  현대오일뱅크   셀프   2152  1910  1841     0  \n",
       "82688  현대오일뱅크   셀프   2152  1910  1841     0  \n",
       "\n",
       "[82689 rows x 11 columns]"
      ]
     },
     "execution_count": 85,
     "metadata": {},
     "output_type": "execute_result"
    }
   ],
   "source": [
    "import pandas as pd\n",
    "from glob import glob\n",
    "# 상반기, 하반기 주유소 가격 데이터 조회\n",
    "file_names = glob(\"data/2022년_*.csv\")\n",
    "first_half, second_half = [pd.read_csv(file_name, encoding='cp949') for file_name in file_names]\n",
    "first_half\n",
    "# second_half\n"
   ]
  },
  {
   "cell_type": "code",
   "execution_count": 86,
   "metadata": {
    "ExecuteTime": {
     "end_time": "2022-06-17T04:38:27.387910Z",
     "start_time": "2022-06-17T04:38:27.374908Z"
    }
   },
   "outputs": [
    {
     "data": {
      "text/html": [
       "<div>\n",
       "<style scoped>\n",
       "    .dataframe tbody tr th:only-of-type {\n",
       "        vertical-align: middle;\n",
       "    }\n",
       "\n",
       "    .dataframe tbody tr th {\n",
       "        vertical-align: top;\n",
       "    }\n",
       "\n",
       "    .dataframe thead th {\n",
       "        text-align: right;\n",
       "    }\n",
       "</style>\n",
       "<table border=\"1\" class=\"dataframe\">\n",
       "  <thead>\n",
       "    <tr style=\"text-align: right;\">\n",
       "      <th></th>\n",
       "      <th>번호</th>\n",
       "      <th>지역</th>\n",
       "      <th>상호</th>\n",
       "      <th>주소</th>\n",
       "      <th>기간</th>\n",
       "      <th>상표</th>\n",
       "      <th>셀프여부</th>\n",
       "      <th>고급휘발유</th>\n",
       "      <th>휘발유</th>\n",
       "      <th>경유</th>\n",
       "      <th>실내등유</th>\n",
       "    </tr>\n",
       "  </thead>\n",
       "  <tbody>\n",
       "    <tr>\n",
       "      <th>0</th>\n",
       "      <td>A0006039</td>\n",
       "      <td>서울 강남구</td>\n",
       "      <td>(유)동하석유 힐탑셀프주유소</td>\n",
       "      <td>서울 강남구 논현로 640</td>\n",
       "      <td>20220101</td>\n",
       "      <td>SK에너지</td>\n",
       "      <td>셀프</td>\n",
       "      <td>1887</td>\n",
       "      <td>1737</td>\n",
       "      <td>1587</td>\n",
       "      <td>0</td>\n",
       "    </tr>\n",
       "    <tr>\n",
       "      <th>1</th>\n",
       "      <td>A0006039</td>\n",
       "      <td>서울 강남구</td>\n",
       "      <td>(유)동하석유 힐탑셀프주유소</td>\n",
       "      <td>서울 강남구 논현로 640</td>\n",
       "      <td>20220102</td>\n",
       "      <td>SK에너지</td>\n",
       "      <td>셀프</td>\n",
       "      <td>1887</td>\n",
       "      <td>1737</td>\n",
       "      <td>1587</td>\n",
       "      <td>0</td>\n",
       "    </tr>\n",
       "    <tr>\n",
       "      <th>2</th>\n",
       "      <td>A0006039</td>\n",
       "      <td>서울 강남구</td>\n",
       "      <td>(유)동하석유 힐탑셀프주유소</td>\n",
       "      <td>서울 강남구 논현로 640</td>\n",
       "      <td>20220103</td>\n",
       "      <td>SK에너지</td>\n",
       "      <td>셀프</td>\n",
       "      <td>1887</td>\n",
       "      <td>1737</td>\n",
       "      <td>1587</td>\n",
       "      <td>0</td>\n",
       "    </tr>\n",
       "    <tr>\n",
       "      <th>3</th>\n",
       "      <td>A0006039</td>\n",
       "      <td>서울 강남구</td>\n",
       "      <td>(유)동하석유 힐탑셀프주유소</td>\n",
       "      <td>서울 강남구 논현로 640</td>\n",
       "      <td>20220104</td>\n",
       "      <td>SK에너지</td>\n",
       "      <td>셀프</td>\n",
       "      <td>1887</td>\n",
       "      <td>1737</td>\n",
       "      <td>1587</td>\n",
       "      <td>0</td>\n",
       "    </tr>\n",
       "    <tr>\n",
       "      <th>4</th>\n",
       "      <td>A0006039</td>\n",
       "      <td>서울 강남구</td>\n",
       "      <td>(유)동하석유 힐탑셀프주유소</td>\n",
       "      <td>서울 강남구 논현로 640</td>\n",
       "      <td>20220105</td>\n",
       "      <td>SK에너지</td>\n",
       "      <td>셀프</td>\n",
       "      <td>1887</td>\n",
       "      <td>1737</td>\n",
       "      <td>1587</td>\n",
       "      <td>0</td>\n",
       "    </tr>\n",
       "    <tr>\n",
       "      <th>...</th>\n",
       "      <td>...</td>\n",
       "      <td>...</td>\n",
       "      <td>...</td>\n",
       "      <td>...</td>\n",
       "      <td>...</td>\n",
       "      <td>...</td>\n",
       "      <td>...</td>\n",
       "      <td>...</td>\n",
       "      <td>...</td>\n",
       "      <td>...</td>\n",
       "      <td>...</td>\n",
       "    </tr>\n",
       "    <tr>\n",
       "      <th>81788</th>\n",
       "      <td>A0009138</td>\n",
       "      <td>서울 중랑구</td>\n",
       "      <td>우림주유소</td>\n",
       "      <td>서울 중랑구 용마산로 487 (망우제3동)</td>\n",
       "      <td>20221227</td>\n",
       "      <td>GS칼텍스</td>\n",
       "      <td>셀프</td>\n",
       "      <td>0</td>\n",
       "      <td>1525</td>\n",
       "      <td>1745</td>\n",
       "      <td>0</td>\n",
       "    </tr>\n",
       "    <tr>\n",
       "      <th>81789</th>\n",
       "      <td>A0009138</td>\n",
       "      <td>서울 중랑구</td>\n",
       "      <td>우림주유소</td>\n",
       "      <td>서울 중랑구 용마산로 487 (망우제3동)</td>\n",
       "      <td>20221228</td>\n",
       "      <td>GS칼텍스</td>\n",
       "      <td>셀프</td>\n",
       "      <td>0</td>\n",
       "      <td>1525</td>\n",
       "      <td>1720</td>\n",
       "      <td>0</td>\n",
       "    </tr>\n",
       "    <tr>\n",
       "      <th>81790</th>\n",
       "      <td>A0009138</td>\n",
       "      <td>서울 중랑구</td>\n",
       "      <td>우림주유소</td>\n",
       "      <td>서울 중랑구 용마산로 487 (망우제3동)</td>\n",
       "      <td>20221229</td>\n",
       "      <td>GS칼텍스</td>\n",
       "      <td>셀프</td>\n",
       "      <td>0</td>\n",
       "      <td>1525</td>\n",
       "      <td>1720</td>\n",
       "      <td>0</td>\n",
       "    </tr>\n",
       "    <tr>\n",
       "      <th>81791</th>\n",
       "      <td>A0009138</td>\n",
       "      <td>서울 중랑구</td>\n",
       "      <td>우림주유소</td>\n",
       "      <td>서울 중랑구 용마산로 487 (망우제3동)</td>\n",
       "      <td>20221230</td>\n",
       "      <td>GS칼텍스</td>\n",
       "      <td>셀프</td>\n",
       "      <td>0</td>\n",
       "      <td>1515</td>\n",
       "      <td>1715</td>\n",
       "      <td>0</td>\n",
       "    </tr>\n",
       "    <tr>\n",
       "      <th>81792</th>\n",
       "      <td>A0009138</td>\n",
       "      <td>서울 중랑구</td>\n",
       "      <td>우림주유소</td>\n",
       "      <td>서울 중랑구 용마산로 487 (망우제3동)</td>\n",
       "      <td>20221231</td>\n",
       "      <td>GS칼텍스</td>\n",
       "      <td>셀프</td>\n",
       "      <td>0</td>\n",
       "      <td>1515</td>\n",
       "      <td>1715</td>\n",
       "      <td>0</td>\n",
       "    </tr>\n",
       "  </tbody>\n",
       "</table>\n",
       "<p>164482 rows × 11 columns</p>\n",
       "</div>"
      ],
      "text/plain": [
       "             번호      지역               상호                       주소        기간  \\\n",
       "0      A0006039  서울 강남구  (유)동하석유 힐탑셀프주유소           서울 강남구 논현로 640  20220101   \n",
       "1      A0006039  서울 강남구  (유)동하석유 힐탑셀프주유소           서울 강남구 논현로 640  20220102   \n",
       "2      A0006039  서울 강남구  (유)동하석유 힐탑셀프주유소           서울 강남구 논현로 640  20220103   \n",
       "3      A0006039  서울 강남구  (유)동하석유 힐탑셀프주유소           서울 강남구 논현로 640  20220104   \n",
       "4      A0006039  서울 강남구  (유)동하석유 힐탑셀프주유소           서울 강남구 논현로 640  20220105   \n",
       "...         ...     ...              ...                      ...       ...   \n",
       "81788  A0009138  서울 중랑구            우림주유소  서울 중랑구 용마산로 487 (망우제3동)  20221227   \n",
       "81789  A0009138  서울 중랑구            우림주유소  서울 중랑구 용마산로 487 (망우제3동)  20221228   \n",
       "81790  A0009138  서울 중랑구            우림주유소  서울 중랑구 용마산로 487 (망우제3동)  20221229   \n",
       "81791  A0009138  서울 중랑구            우림주유소  서울 중랑구 용마산로 487 (망우제3동)  20221230   \n",
       "81792  A0009138  서울 중랑구            우림주유소  서울 중랑구 용마산로 487 (망우제3동)  20221231   \n",
       "\n",
       "          상표 셀프여부  고급휘발유   휘발유    경유  실내등유  \n",
       "0      SK에너지   셀프   1887  1737  1587     0  \n",
       "1      SK에너지   셀프   1887  1737  1587     0  \n",
       "2      SK에너지   셀프   1887  1737  1587     0  \n",
       "3      SK에너지   셀프   1887  1737  1587     0  \n",
       "4      SK에너지   셀프   1887  1737  1587     0  \n",
       "...      ...  ...    ...   ...   ...   ...  \n",
       "81788  GS칼텍스   셀프      0  1525  1745     0  \n",
       "81789  GS칼텍스   셀프      0  1525  1720     0  \n",
       "81790  GS칼텍스   셀프      0  1525  1720     0  \n",
       "81791  GS칼텍스   셀프      0  1515  1715     0  \n",
       "81792  GS칼텍스   셀프      0  1515  1715     0  \n",
       "\n",
       "[164482 rows x 11 columns]"
      ]
     },
     "execution_count": 86,
     "metadata": {},
     "output_type": "execute_result"
    }
   ],
   "source": [
    "# 상반기, 하반기 DataFrame 합치기\n",
    "result = pd.concat([first_half, second_half])\n",
    "result"
   ]
  },
  {
   "cell_type": "code",
   "execution_count": 10,
   "metadata": {
    "ExecuteTime": {
     "end_time": "2022-06-17T04:38:27.403867Z",
     "start_time": "2022-06-17T04:38:27.390875Z"
    }
   },
   "outputs": [
    {
     "name": "stdout",
     "output_type": "stream",
     "text": [
      "<class 'pandas.core.frame.DataFrame'>\n",
      "RangeIndex: 82689 entries, 0 to 82688\n",
      "Data columns (total 11 columns):\n",
      " #   Column  Non-Null Count  Dtype \n",
      "---  ------  --------------  ----- \n",
      " 0   번호      82689 non-null  object\n",
      " 1   지역      82689 non-null  object\n",
      " 2   상호      82689 non-null  object\n",
      " 3   주소      82689 non-null  object\n",
      " 4   기간      82689 non-null  int64 \n",
      " 5   상표      82689 non-null  object\n",
      " 6   셀프여부    82689 non-null  object\n",
      " 7   고급휘발유   82689 non-null  int64 \n",
      " 8   휘발유     82689 non-null  int64 \n",
      " 9   경유      82689 non-null  int64 \n",
      " 10  실내등유    82689 non-null  int64 \n",
      "dtypes: int64(5), object(6)\n",
      "memory usage: 6.9+ MB\n",
      "None\n",
      "<class 'pandas.core.frame.DataFrame'>\n",
      "RangeIndex: 81793 entries, 0 to 81792\n",
      "Data columns (total 11 columns):\n",
      " #   Column  Non-Null Count  Dtype \n",
      "---  ------  --------------  ----- \n",
      " 0   번호      81793 non-null  object\n",
      " 1   지역      81793 non-null  object\n",
      " 2   상호      81793 non-null  object\n",
      " 3   주소      81793 non-null  object\n",
      " 4   기간      81793 non-null  int64 \n",
      " 5   상표      81793 non-null  object\n",
      " 6   셀프여부    81793 non-null  object\n",
      " 7   고급휘발유   81793 non-null  int64 \n",
      " 8   휘발유     81793 non-null  int64 \n",
      " 9   경유      81793 non-null  int64 \n",
      " 10  실내등유    81793 non-null  int64 \n",
      "dtypes: int64(5), object(6)\n",
      "memory usage: 6.9+ MB\n",
      "None\n",
      "<class 'pandas.core.frame.DataFrame'>\n",
      "Index: 164482 entries, 0 to 81792\n",
      "Data columns (total 11 columns):\n",
      " #   Column  Non-Null Count   Dtype \n",
      "---  ------  --------------   ----- \n",
      " 0   번호      164482 non-null  object\n",
      " 1   지역      164482 non-null  object\n",
      " 2   상호      164482 non-null  object\n",
      " 3   주소      164482 non-null  object\n",
      " 4   기간      164482 non-null  int64 \n",
      " 5   상표      164482 non-null  object\n",
      " 6   셀프여부    164482 non-null  object\n",
      " 7   고급휘발유   164482 non-null  int64 \n",
      " 8   휘발유     164482 non-null  int64 \n",
      " 9   경유      164482 non-null  int64 \n",
      " 10  실내등유    164482 non-null  int64 \n",
      "dtypes: int64(5), object(6)\n",
      "memory usage: 15.1+ MB\n",
      "None\n"
     ]
    }
   ],
   "source": [
    "# DataFrame 기본 정보 조회\n",
    "print(first_half.info())\n",
    "print(second_half.info())\n",
    "print(result.info())"
   ]
  },
  {
   "cell_type": "code",
   "execution_count": 11,
   "metadata": {
    "ExecuteTime": {
     "end_time": "2022-06-17T04:38:27.419791Z",
     "start_time": "2022-06-17T04:38:27.407821Z"
    }
   },
   "outputs": [
    {
     "data": {
      "text/plain": [
       "0        SK에너지\n",
       "1        SK에너지\n",
       "2        SK에너지\n",
       "3        SK에너지\n",
       "4        SK에너지\n",
       "         ...  \n",
       "81788    GS칼텍스\n",
       "81789    GS칼텍스\n",
       "81790    GS칼텍스\n",
       "81791    GS칼텍스\n",
       "81792    GS칼텍스\n",
       "Name: 상표, Length: 164482, dtype: object"
      ]
     },
     "execution_count": 11,
     "metadata": {},
     "output_type": "execute_result"
    }
   ],
   "source": [
    "# 상표 컬럼의 고유값 조회\n",
    "result['상표']"
   ]
  },
  {
   "cell_type": "code",
   "execution_count": 12,
   "metadata": {
    "ExecuteTime": {
     "end_time": "2022-06-17T04:38:27.435783Z",
     "start_time": "2022-06-17T04:38:27.422780Z"
    }
   },
   "outputs": [
    {
     "data": {
      "text/plain": [
       "0        서울 강남구\n",
       "1        서울 강남구\n",
       "2        서울 강남구\n",
       "3        서울 강남구\n",
       "4        서울 강남구\n",
       "          ...  \n",
       "81788    서울 중랑구\n",
       "81789    서울 중랑구\n",
       "81790    서울 중랑구\n",
       "81791    서울 중랑구\n",
       "81792    서울 중랑구\n",
       "Name: 지역, Length: 164482, dtype: object"
      ]
     },
     "execution_count": 12,
     "metadata": {},
     "output_type": "execute_result"
    }
   ],
   "source": [
    "# 지역 컬럼의 고유값 조회\n",
    "result['지역']"
   ]
  },
  {
   "cell_type": "markdown",
   "metadata": {},
   "source": [
    "> ### str accessor\n",
    "> - `Series.str.String메소드()`\n",
    "> - 문자열 타입 Series에 String 메소드들을 사용하여 일괄처리 할 수 있도록 한다.\n",
    "> - str accessor 메소드 : https://pandas.pydata.org/pandas-docs/stable/reference/series.html#api-series-str\n",
    "\n",
    "> ### datetime으로 변환\n",
    "> - `pd.to_datetime(변환할 Series, format=\"날짜형식\")`\n",
    "> - x 또는 y 축이 날짜 일 경우 datetime 타입으로 처리하는 것이 좋다.\n",
    "> - format: 년월일의 형식을 strftime 형식문자열로 지정한다. \n",
    ">      - [strftime 형식](https://docs.python.org/3/library/datetime.html#strftime-and-strptime-format-codes)  \n",
    "> - datetime을 변환하면 날짜만의 기능을 다룰 수 있다.\n",
    ">     - dt accessor를 이용해 datetime의 속성값들을(년, 월, 일 등) 추출할 수 있다.\n",
    ">     - https://pandas.pydata.org/pandas-docs/stable/reference/api/pandas.Series.dt.html\n"
   ]
  },
  {
   "cell_type": "code",
   "execution_count": 89,
   "metadata": {
    "ExecuteTime": {
     "end_time": "2022-06-17T04:38:27.451702Z",
     "start_time": "2022-06-17T04:38:27.438737Z"
    }
   },
   "outputs": [
    {
     "data": {
      "text/html": [
       "<div>\n",
       "<style scoped>\n",
       "    .dataframe tbody tr th:only-of-type {\n",
       "        vertical-align: middle;\n",
       "    }\n",
       "\n",
       "    .dataframe tbody tr th {\n",
       "        vertical-align: top;\n",
       "    }\n",
       "\n",
       "    .dataframe thead th {\n",
       "        text-align: right;\n",
       "    }\n",
       "</style>\n",
       "<table border=\"1\" class=\"dataframe\">\n",
       "  <thead>\n",
       "    <tr style=\"text-align: right;\">\n",
       "      <th></th>\n",
       "      <th>번호</th>\n",
       "      <th>지역</th>\n",
       "      <th>상호</th>\n",
       "      <th>주소</th>\n",
       "      <th>기간</th>\n",
       "      <th>상표</th>\n",
       "      <th>셀프여부</th>\n",
       "      <th>고급휘발유</th>\n",
       "      <th>휘발유</th>\n",
       "      <th>경유</th>\n",
       "      <th>실내등유</th>\n",
       "      <th>구</th>\n",
       "    </tr>\n",
       "  </thead>\n",
       "  <tbody>\n",
       "    <tr>\n",
       "      <th>0</th>\n",
       "      <td>A0006039</td>\n",
       "      <td>서울 강남구</td>\n",
       "      <td>(유)동하석유 힐탑셀프주유소</td>\n",
       "      <td>서울 강남구 논현로 640</td>\n",
       "      <td>1970-01-01 00:00:00.020220101</td>\n",
       "      <td>SK에너지</td>\n",
       "      <td>셀프</td>\n",
       "      <td>1887</td>\n",
       "      <td>1737</td>\n",
       "      <td>1587</td>\n",
       "      <td>0</td>\n",
       "      <td>강남구</td>\n",
       "    </tr>\n",
       "    <tr>\n",
       "      <th>1</th>\n",
       "      <td>A0006039</td>\n",
       "      <td>서울 강남구</td>\n",
       "      <td>(유)동하석유 힐탑셀프주유소</td>\n",
       "      <td>서울 강남구 논현로 640</td>\n",
       "      <td>1970-01-01 00:00:00.020220102</td>\n",
       "      <td>SK에너지</td>\n",
       "      <td>셀프</td>\n",
       "      <td>1887</td>\n",
       "      <td>1737</td>\n",
       "      <td>1587</td>\n",
       "      <td>0</td>\n",
       "      <td>강남구</td>\n",
       "    </tr>\n",
       "    <tr>\n",
       "      <th>2</th>\n",
       "      <td>A0006039</td>\n",
       "      <td>서울 강남구</td>\n",
       "      <td>(유)동하석유 힐탑셀프주유소</td>\n",
       "      <td>서울 강남구 논현로 640</td>\n",
       "      <td>1970-01-01 00:00:00.020220103</td>\n",
       "      <td>SK에너지</td>\n",
       "      <td>셀프</td>\n",
       "      <td>1887</td>\n",
       "      <td>1737</td>\n",
       "      <td>1587</td>\n",
       "      <td>0</td>\n",
       "      <td>강남구</td>\n",
       "    </tr>\n",
       "    <tr>\n",
       "      <th>3</th>\n",
       "      <td>A0006039</td>\n",
       "      <td>서울 강남구</td>\n",
       "      <td>(유)동하석유 힐탑셀프주유소</td>\n",
       "      <td>서울 강남구 논현로 640</td>\n",
       "      <td>1970-01-01 00:00:00.020220104</td>\n",
       "      <td>SK에너지</td>\n",
       "      <td>셀프</td>\n",
       "      <td>1887</td>\n",
       "      <td>1737</td>\n",
       "      <td>1587</td>\n",
       "      <td>0</td>\n",
       "      <td>강남구</td>\n",
       "    </tr>\n",
       "    <tr>\n",
       "      <th>4</th>\n",
       "      <td>A0006039</td>\n",
       "      <td>서울 강남구</td>\n",
       "      <td>(유)동하석유 힐탑셀프주유소</td>\n",
       "      <td>서울 강남구 논현로 640</td>\n",
       "      <td>1970-01-01 00:00:00.020220105</td>\n",
       "      <td>SK에너지</td>\n",
       "      <td>셀프</td>\n",
       "      <td>1887</td>\n",
       "      <td>1737</td>\n",
       "      <td>1587</td>\n",
       "      <td>0</td>\n",
       "      <td>강남구</td>\n",
       "    </tr>\n",
       "    <tr>\n",
       "      <th>...</th>\n",
       "      <td>...</td>\n",
       "      <td>...</td>\n",
       "      <td>...</td>\n",
       "      <td>...</td>\n",
       "      <td>...</td>\n",
       "      <td>...</td>\n",
       "      <td>...</td>\n",
       "      <td>...</td>\n",
       "      <td>...</td>\n",
       "      <td>...</td>\n",
       "      <td>...</td>\n",
       "      <td>...</td>\n",
       "    </tr>\n",
       "    <tr>\n",
       "      <th>81788</th>\n",
       "      <td>A0009138</td>\n",
       "      <td>서울 중랑구</td>\n",
       "      <td>우림주유소</td>\n",
       "      <td>서울 중랑구 용마산로 487 (망우제3동)</td>\n",
       "      <td>1970-01-01 00:00:00.020221227</td>\n",
       "      <td>GS칼텍스</td>\n",
       "      <td>셀프</td>\n",
       "      <td>0</td>\n",
       "      <td>1525</td>\n",
       "      <td>1745</td>\n",
       "      <td>0</td>\n",
       "      <td>중랑구</td>\n",
       "    </tr>\n",
       "    <tr>\n",
       "      <th>81789</th>\n",
       "      <td>A0009138</td>\n",
       "      <td>서울 중랑구</td>\n",
       "      <td>우림주유소</td>\n",
       "      <td>서울 중랑구 용마산로 487 (망우제3동)</td>\n",
       "      <td>1970-01-01 00:00:00.020221228</td>\n",
       "      <td>GS칼텍스</td>\n",
       "      <td>셀프</td>\n",
       "      <td>0</td>\n",
       "      <td>1525</td>\n",
       "      <td>1720</td>\n",
       "      <td>0</td>\n",
       "      <td>중랑구</td>\n",
       "    </tr>\n",
       "    <tr>\n",
       "      <th>81790</th>\n",
       "      <td>A0009138</td>\n",
       "      <td>서울 중랑구</td>\n",
       "      <td>우림주유소</td>\n",
       "      <td>서울 중랑구 용마산로 487 (망우제3동)</td>\n",
       "      <td>1970-01-01 00:00:00.020221229</td>\n",
       "      <td>GS칼텍스</td>\n",
       "      <td>셀프</td>\n",
       "      <td>0</td>\n",
       "      <td>1525</td>\n",
       "      <td>1720</td>\n",
       "      <td>0</td>\n",
       "      <td>중랑구</td>\n",
       "    </tr>\n",
       "    <tr>\n",
       "      <th>81791</th>\n",
       "      <td>A0009138</td>\n",
       "      <td>서울 중랑구</td>\n",
       "      <td>우림주유소</td>\n",
       "      <td>서울 중랑구 용마산로 487 (망우제3동)</td>\n",
       "      <td>1970-01-01 00:00:00.020221230</td>\n",
       "      <td>GS칼텍스</td>\n",
       "      <td>셀프</td>\n",
       "      <td>0</td>\n",
       "      <td>1515</td>\n",
       "      <td>1715</td>\n",
       "      <td>0</td>\n",
       "      <td>중랑구</td>\n",
       "    </tr>\n",
       "    <tr>\n",
       "      <th>81792</th>\n",
       "      <td>A0009138</td>\n",
       "      <td>서울 중랑구</td>\n",
       "      <td>우림주유소</td>\n",
       "      <td>서울 중랑구 용마산로 487 (망우제3동)</td>\n",
       "      <td>1970-01-01 00:00:00.020221231</td>\n",
       "      <td>GS칼텍스</td>\n",
       "      <td>셀프</td>\n",
       "      <td>0</td>\n",
       "      <td>1515</td>\n",
       "      <td>1715</td>\n",
       "      <td>0</td>\n",
       "      <td>중랑구</td>\n",
       "    </tr>\n",
       "  </tbody>\n",
       "</table>\n",
       "<p>164482 rows × 12 columns</p>\n",
       "</div>"
      ],
      "text/plain": [
       "             번호      지역               상호                       주소  \\\n",
       "0      A0006039  서울 강남구  (유)동하석유 힐탑셀프주유소           서울 강남구 논현로 640   \n",
       "1      A0006039  서울 강남구  (유)동하석유 힐탑셀프주유소           서울 강남구 논현로 640   \n",
       "2      A0006039  서울 강남구  (유)동하석유 힐탑셀프주유소           서울 강남구 논현로 640   \n",
       "3      A0006039  서울 강남구  (유)동하석유 힐탑셀프주유소           서울 강남구 논현로 640   \n",
       "4      A0006039  서울 강남구  (유)동하석유 힐탑셀프주유소           서울 강남구 논현로 640   \n",
       "...         ...     ...              ...                      ...   \n",
       "81788  A0009138  서울 중랑구            우림주유소  서울 중랑구 용마산로 487 (망우제3동)   \n",
       "81789  A0009138  서울 중랑구            우림주유소  서울 중랑구 용마산로 487 (망우제3동)   \n",
       "81790  A0009138  서울 중랑구            우림주유소  서울 중랑구 용마산로 487 (망우제3동)   \n",
       "81791  A0009138  서울 중랑구            우림주유소  서울 중랑구 용마산로 487 (망우제3동)   \n",
       "81792  A0009138  서울 중랑구            우림주유소  서울 중랑구 용마산로 487 (망우제3동)   \n",
       "\n",
       "                                 기간     상표 셀프여부  고급휘발유   휘발유    경유  실내등유    구  \n",
       "0     1970-01-01 00:00:00.020220101  SK에너지   셀프   1887  1737  1587     0  강남구  \n",
       "1     1970-01-01 00:00:00.020220102  SK에너지   셀프   1887  1737  1587     0  강남구  \n",
       "2     1970-01-01 00:00:00.020220103  SK에너지   셀프   1887  1737  1587     0  강남구  \n",
       "3     1970-01-01 00:00:00.020220104  SK에너지   셀프   1887  1737  1587     0  강남구  \n",
       "4     1970-01-01 00:00:00.020220105  SK에너지   셀프   1887  1737  1587     0  강남구  \n",
       "...                             ...    ...  ...    ...   ...   ...   ...  ...  \n",
       "81788 1970-01-01 00:00:00.020221227  GS칼텍스   셀프      0  1525  1745     0  중랑구  \n",
       "81789 1970-01-01 00:00:00.020221228  GS칼텍스   셀프      0  1525  1720     0  중랑구  \n",
       "81790 1970-01-01 00:00:00.020221229  GS칼텍스   셀프      0  1525  1720     0  중랑구  \n",
       "81791 1970-01-01 00:00:00.020221230  GS칼텍스   셀프      0  1515  1715     0  중랑구  \n",
       "81792 1970-01-01 00:00:00.020221231  GS칼텍스   셀프      0  1515  1715     0  중랑구  \n",
       "\n",
       "[164482 rows x 12 columns]"
      ]
     },
     "execution_count": 89,
     "metadata": {},
     "output_type": "execute_result"
    }
   ],
   "source": [
    "# 지역 컬럼의 값을 이용하여 \"구\" 컬럼 생성 (지역에서 구만 추출해서 파생변수컬럼 생성해서 구별로로 집계를 할 수있도록 한다.)\n",
    "result2 = result[\"지역\"].str.split()\n",
    "result3 = list()\n",
    "for i in result2:\n",
    "    result3.append(i[1])\n",
    "result[\"구\"] = pd.Series(result3)\n",
    "result\n",
    "\n"
   ]
  },
  {
   "cell_type": "code",
   "execution_count": null,
   "metadata": {
    "ExecuteTime": {
     "end_time": "2022-06-17T04:38:27.467660Z",
     "start_time": "2022-06-17T04:38:27.454702Z"
    }
   },
   "outputs": [
    {
     "data": {
      "text/plain": [
       "0       1970-01-01 00:00:00.020220101\n",
       "1       1970-01-01 00:00:00.020220102\n",
       "2       1970-01-01 00:00:00.020220103\n",
       "3       1970-01-01 00:00:00.020220104\n",
       "4       1970-01-01 00:00:00.020220105\n",
       "                     ...             \n",
       "81788   1970-01-01 00:00:00.020221227\n",
       "81789   1970-01-01 00:00:00.020221228\n",
       "81790   1970-01-01 00:00:00.020221229\n",
       "81791   1970-01-01 00:00:00.020221230\n",
       "81792   1970-01-01 00:00:00.020221231\n",
       "Name: 기간, Length: 164482, dtype: datetime64[ns]"
      ]
     },
     "execution_count": 91,
     "metadata": {},
     "output_type": "execute_result"
    }
   ],
   "source": [
    "# 기간 컬럼을 datetime 타입으로 변경한다.\n",
    "# result[\"기간\"] = pd.to_datetime(result[\"기간\"])\n",
    "result = pd.concat([first_half, second_half])\n",
    "\n",
    "b = pd.to_datetime(result[\"기간\"])\n",
    "b\n"
   ]
  },
  {
   "cell_type": "code",
   "execution_count": null,
   "metadata": {
    "ExecuteTime": {
     "end_time": "2022-06-17T04:38:27.483617Z",
     "start_time": "2022-06-17T04:38:27.470653Z"
    }
   },
   "outputs": [
    {
     "data": {
      "text/html": [
       "<div>\n",
       "<style scoped>\n",
       "    .dataframe tbody tr th:only-of-type {\n",
       "        vertical-align: middle;\n",
       "    }\n",
       "\n",
       "    .dataframe tbody tr th {\n",
       "        vertical-align: top;\n",
       "    }\n",
       "\n",
       "    .dataframe thead th {\n",
       "        text-align: right;\n",
       "    }\n",
       "</style>\n",
       "<table border=\"1\" class=\"dataframe\">\n",
       "  <thead>\n",
       "    <tr style=\"text-align: right;\">\n",
       "      <th></th>\n",
       "      <th>번호</th>\n",
       "      <th>지역</th>\n",
       "      <th>상호</th>\n",
       "      <th>주소</th>\n",
       "      <th>기간</th>\n",
       "      <th>상표</th>\n",
       "      <th>셀프여부</th>\n",
       "      <th>고급휘발유</th>\n",
       "      <th>휘발유</th>\n",
       "      <th>경유</th>\n",
       "      <th>실내등유</th>\n",
       "      <th>구</th>\n",
       "      <th>월</th>\n",
       "      <th>일</th>\n",
       "      <th>요일</th>\n",
       "    </tr>\n",
       "  </thead>\n",
       "  <tbody>\n",
       "    <tr>\n",
       "      <th>0</th>\n",
       "      <td>A0006039</td>\n",
       "      <td>서울 강남구</td>\n",
       "      <td>(유)동하석유 힐탑셀프주유소</td>\n",
       "      <td>서울 강남구 논현로 640</td>\n",
       "      <td>1970-01-01 00:00:00.020220101</td>\n",
       "      <td>SK에너지</td>\n",
       "      <td>셀프</td>\n",
       "      <td>1887</td>\n",
       "      <td>1737</td>\n",
       "      <td>1587</td>\n",
       "      <td>0</td>\n",
       "      <td>강남구</td>\n",
       "      <td>1</td>\n",
       "      <td>1</td>\n",
       "      <td>3</td>\n",
       "    </tr>\n",
       "    <tr>\n",
       "      <th>1</th>\n",
       "      <td>A0006039</td>\n",
       "      <td>서울 강남구</td>\n",
       "      <td>(유)동하석유 힐탑셀프주유소</td>\n",
       "      <td>서울 강남구 논현로 640</td>\n",
       "      <td>1970-01-01 00:00:00.020220102</td>\n",
       "      <td>SK에너지</td>\n",
       "      <td>셀프</td>\n",
       "      <td>1887</td>\n",
       "      <td>1737</td>\n",
       "      <td>1587</td>\n",
       "      <td>0</td>\n",
       "      <td>강남구</td>\n",
       "      <td>1</td>\n",
       "      <td>1</td>\n",
       "      <td>3</td>\n",
       "    </tr>\n",
       "    <tr>\n",
       "      <th>2</th>\n",
       "      <td>A0006039</td>\n",
       "      <td>서울 강남구</td>\n",
       "      <td>(유)동하석유 힐탑셀프주유소</td>\n",
       "      <td>서울 강남구 논현로 640</td>\n",
       "      <td>1970-01-01 00:00:00.020220103</td>\n",
       "      <td>SK에너지</td>\n",
       "      <td>셀프</td>\n",
       "      <td>1887</td>\n",
       "      <td>1737</td>\n",
       "      <td>1587</td>\n",
       "      <td>0</td>\n",
       "      <td>강남구</td>\n",
       "      <td>1</td>\n",
       "      <td>1</td>\n",
       "      <td>3</td>\n",
       "    </tr>\n",
       "    <tr>\n",
       "      <th>3</th>\n",
       "      <td>A0006039</td>\n",
       "      <td>서울 강남구</td>\n",
       "      <td>(유)동하석유 힐탑셀프주유소</td>\n",
       "      <td>서울 강남구 논현로 640</td>\n",
       "      <td>1970-01-01 00:00:00.020220104</td>\n",
       "      <td>SK에너지</td>\n",
       "      <td>셀프</td>\n",
       "      <td>1887</td>\n",
       "      <td>1737</td>\n",
       "      <td>1587</td>\n",
       "      <td>0</td>\n",
       "      <td>강남구</td>\n",
       "      <td>1</td>\n",
       "      <td>1</td>\n",
       "      <td>3</td>\n",
       "    </tr>\n",
       "    <tr>\n",
       "      <th>4</th>\n",
       "      <td>A0006039</td>\n",
       "      <td>서울 강남구</td>\n",
       "      <td>(유)동하석유 힐탑셀프주유소</td>\n",
       "      <td>서울 강남구 논현로 640</td>\n",
       "      <td>1970-01-01 00:00:00.020220105</td>\n",
       "      <td>SK에너지</td>\n",
       "      <td>셀프</td>\n",
       "      <td>1887</td>\n",
       "      <td>1737</td>\n",
       "      <td>1587</td>\n",
       "      <td>0</td>\n",
       "      <td>강남구</td>\n",
       "      <td>1</td>\n",
       "      <td>1</td>\n",
       "      <td>3</td>\n",
       "    </tr>\n",
       "    <tr>\n",
       "      <th>...</th>\n",
       "      <td>...</td>\n",
       "      <td>...</td>\n",
       "      <td>...</td>\n",
       "      <td>...</td>\n",
       "      <td>...</td>\n",
       "      <td>...</td>\n",
       "      <td>...</td>\n",
       "      <td>...</td>\n",
       "      <td>...</td>\n",
       "      <td>...</td>\n",
       "      <td>...</td>\n",
       "      <td>...</td>\n",
       "      <td>...</td>\n",
       "      <td>...</td>\n",
       "      <td>...</td>\n",
       "    </tr>\n",
       "    <tr>\n",
       "      <th>81788</th>\n",
       "      <td>A0009138</td>\n",
       "      <td>서울 중랑구</td>\n",
       "      <td>우림주유소</td>\n",
       "      <td>서울 중랑구 용마산로 487 (망우제3동)</td>\n",
       "      <td>1970-01-01 00:00:00.020221227</td>\n",
       "      <td>GS칼텍스</td>\n",
       "      <td>셀프</td>\n",
       "      <td>0</td>\n",
       "      <td>1525</td>\n",
       "      <td>1745</td>\n",
       "      <td>0</td>\n",
       "      <td>중랑구</td>\n",
       "      <td>1</td>\n",
       "      <td>1</td>\n",
       "      <td>3</td>\n",
       "    </tr>\n",
       "    <tr>\n",
       "      <th>81789</th>\n",
       "      <td>A0009138</td>\n",
       "      <td>서울 중랑구</td>\n",
       "      <td>우림주유소</td>\n",
       "      <td>서울 중랑구 용마산로 487 (망우제3동)</td>\n",
       "      <td>1970-01-01 00:00:00.020221228</td>\n",
       "      <td>GS칼텍스</td>\n",
       "      <td>셀프</td>\n",
       "      <td>0</td>\n",
       "      <td>1525</td>\n",
       "      <td>1720</td>\n",
       "      <td>0</td>\n",
       "      <td>중랑구</td>\n",
       "      <td>1</td>\n",
       "      <td>1</td>\n",
       "      <td>3</td>\n",
       "    </tr>\n",
       "    <tr>\n",
       "      <th>81790</th>\n",
       "      <td>A0009138</td>\n",
       "      <td>서울 중랑구</td>\n",
       "      <td>우림주유소</td>\n",
       "      <td>서울 중랑구 용마산로 487 (망우제3동)</td>\n",
       "      <td>1970-01-01 00:00:00.020221229</td>\n",
       "      <td>GS칼텍스</td>\n",
       "      <td>셀프</td>\n",
       "      <td>0</td>\n",
       "      <td>1525</td>\n",
       "      <td>1720</td>\n",
       "      <td>0</td>\n",
       "      <td>중랑구</td>\n",
       "      <td>1</td>\n",
       "      <td>1</td>\n",
       "      <td>3</td>\n",
       "    </tr>\n",
       "    <tr>\n",
       "      <th>81791</th>\n",
       "      <td>A0009138</td>\n",
       "      <td>서울 중랑구</td>\n",
       "      <td>우림주유소</td>\n",
       "      <td>서울 중랑구 용마산로 487 (망우제3동)</td>\n",
       "      <td>1970-01-01 00:00:00.020221230</td>\n",
       "      <td>GS칼텍스</td>\n",
       "      <td>셀프</td>\n",
       "      <td>0</td>\n",
       "      <td>1515</td>\n",
       "      <td>1715</td>\n",
       "      <td>0</td>\n",
       "      <td>중랑구</td>\n",
       "      <td>1</td>\n",
       "      <td>1</td>\n",
       "      <td>3</td>\n",
       "    </tr>\n",
       "    <tr>\n",
       "      <th>81792</th>\n",
       "      <td>A0009138</td>\n",
       "      <td>서울 중랑구</td>\n",
       "      <td>우림주유소</td>\n",
       "      <td>서울 중랑구 용마산로 487 (망우제3동)</td>\n",
       "      <td>1970-01-01 00:00:00.020221231</td>\n",
       "      <td>GS칼텍스</td>\n",
       "      <td>셀프</td>\n",
       "      <td>0</td>\n",
       "      <td>1515</td>\n",
       "      <td>1715</td>\n",
       "      <td>0</td>\n",
       "      <td>중랑구</td>\n",
       "      <td>1</td>\n",
       "      <td>1</td>\n",
       "      <td>3</td>\n",
       "    </tr>\n",
       "  </tbody>\n",
       "</table>\n",
       "<p>164482 rows × 15 columns</p>\n",
       "</div>"
      ],
      "text/plain": [
       "             번호      지역               상호                       주소  \\\n",
       "0      A0006039  서울 강남구  (유)동하석유 힐탑셀프주유소           서울 강남구 논현로 640   \n",
       "1      A0006039  서울 강남구  (유)동하석유 힐탑셀프주유소           서울 강남구 논현로 640   \n",
       "2      A0006039  서울 강남구  (유)동하석유 힐탑셀프주유소           서울 강남구 논현로 640   \n",
       "3      A0006039  서울 강남구  (유)동하석유 힐탑셀프주유소           서울 강남구 논현로 640   \n",
       "4      A0006039  서울 강남구  (유)동하석유 힐탑셀프주유소           서울 강남구 논현로 640   \n",
       "...         ...     ...              ...                      ...   \n",
       "81788  A0009138  서울 중랑구            우림주유소  서울 중랑구 용마산로 487 (망우제3동)   \n",
       "81789  A0009138  서울 중랑구            우림주유소  서울 중랑구 용마산로 487 (망우제3동)   \n",
       "81790  A0009138  서울 중랑구            우림주유소  서울 중랑구 용마산로 487 (망우제3동)   \n",
       "81791  A0009138  서울 중랑구            우림주유소  서울 중랑구 용마산로 487 (망우제3동)   \n",
       "81792  A0009138  서울 중랑구            우림주유소  서울 중랑구 용마산로 487 (망우제3동)   \n",
       "\n",
       "                                 기간     상표 셀프여부  고급휘발유   휘발유    경유  실내등유    구  \\\n",
       "0     1970-01-01 00:00:00.020220101  SK에너지   셀프   1887  1737  1587     0  강남구   \n",
       "1     1970-01-01 00:00:00.020220102  SK에너지   셀프   1887  1737  1587     0  강남구   \n",
       "2     1970-01-01 00:00:00.020220103  SK에너지   셀프   1887  1737  1587     0  강남구   \n",
       "3     1970-01-01 00:00:00.020220104  SK에너지   셀프   1887  1737  1587     0  강남구   \n",
       "4     1970-01-01 00:00:00.020220105  SK에너지   셀프   1887  1737  1587     0  강남구   \n",
       "...                             ...    ...  ...    ...   ...   ...   ...  ...   \n",
       "81788 1970-01-01 00:00:00.020221227  GS칼텍스   셀프      0  1525  1745     0  중랑구   \n",
       "81789 1970-01-01 00:00:00.020221228  GS칼텍스   셀프      0  1525  1720     0  중랑구   \n",
       "81790 1970-01-01 00:00:00.020221229  GS칼텍스   셀프      0  1525  1720     0  중랑구   \n",
       "81791 1970-01-01 00:00:00.020221230  GS칼텍스   셀프      0  1515  1715     0  중랑구   \n",
       "81792 1970-01-01 00:00:00.020221231  GS칼텍스   셀프      0  1515  1715     0  중랑구   \n",
       "\n",
       "       월  일  요일  \n",
       "0      1  1   3  \n",
       "1      1  1   3  \n",
       "2      1  1   3  \n",
       "3      1  1   3  \n",
       "4      1  1   3  \n",
       "...   .. ..  ..  \n",
       "81788  1  1   3  \n",
       "81789  1  1   3  \n",
       "81790  1  1   3  \n",
       "81791  1  1   3  \n",
       "81792  1  1   3  \n",
       "\n",
       "[164482 rows x 15 columns]"
      ]
     },
     "execution_count": 84,
     "metadata": {},
     "output_type": "execute_result"
    }
   ],
   "source": [
    "# 기간 컬럼을 이용해 \"월\", \"일\", \"요일\" 컬럼 생성 (dt accessor 이용) (월, 일, 요일 별로 집계할 수있도록 한다.)\n",
    "result['월'] = result[\"기간\"].dt.month\n",
    "result['일'] = result[\"기간\"].dt.day\n",
    "result['요일'] = result[\"기간\"].dt.dayofweek\n",
    "result"
   ]
  },
  {
   "cell_type": "code",
   "execution_count": null,
   "metadata": {
    "ExecuteTime": {
     "end_time": "2022-06-17T04:38:27.499576Z",
     "start_time": "2022-06-17T04:38:27.486611Z"
    }
   },
   "outputs": [],
   "source": [
    "# 요일 - 0:월, 1:화, 2:수, 3:목, 4:금, 5:토, 6:일 로 변경\n"
   ]
  },
  {
   "cell_type": "code",
   "execution_count": null,
   "metadata": {
    "ExecuteTime": {
     "end_time": "2022-06-17T04:38:27.515547Z",
     "start_time": "2022-06-17T04:38:27.505561Z"
    }
   },
   "outputs": [],
   "source": [
    "# 휘발유 가격이 가장 비싼 5개 행 조회\n"
   ]
  },
  {
   "cell_type": "code",
   "execution_count": null,
   "metadata": {
    "ExecuteTime": {
     "end_time": "2022-06-17T04:38:27.531491Z",
     "start_time": "2022-06-17T04:38:27.520519Z"
    }
   },
   "outputs": [],
   "source": [
    "# 휘발유 가격이 가장 저렴한 5개 행 조회 (단 0원인 주유소 제외)\n"
   ]
  },
  {
   "cell_type": "code",
   "execution_count": null,
   "metadata": {
    "ExecuteTime": {
     "end_time": "2022-06-17T04:38:27.547464Z",
     "start_time": "2022-06-17T04:38:27.535482Z"
    }
   },
   "outputs": [],
   "source": [
    "# 고급휘발유 가격이 가장 비싼 5개 행 조회\n"
   ]
  },
  {
   "cell_type": "code",
   "execution_count": null,
   "metadata": {
    "ExecuteTime": {
     "end_time": "2022-06-17T04:38:27.563404Z",
     "start_time": "2022-06-17T04:38:27.557420Z"
    }
   },
   "outputs": [],
   "source": [
    "# 고급휘발유 가격이 가장 저렴한 5개 행 조회 (단 0원인 주유소 제외)\n"
   ]
  },
  {
   "cell_type": "code",
   "execution_count": null,
   "metadata": {
    "ExecuteTime": {
     "end_time": "2022-06-17T04:38:27.579370Z",
     "start_time": "2022-06-17T04:38:27.566396Z"
    }
   },
   "outputs": [],
   "source": [
    "# 경유 가격이 가장 비싼 5개 행 조회\n"
   ]
  },
  {
   "cell_type": "code",
   "execution_count": null,
   "metadata": {
    "ExecuteTime": {
     "end_time": "2022-06-17T04:38:27.595319Z",
     "start_time": "2022-06-17T04:38:27.582353Z"
    }
   },
   "outputs": [],
   "source": [
    "# 경유 가격이 가장 저렴한 5개 행 조회 (단 0원인 주유소 제외)\n"
   ]
  },
  {
   "cell_type": "code",
   "execution_count": null,
   "metadata": {
    "ExecuteTime": {
     "end_time": "2022-06-17T04:38:27.611277Z",
     "start_time": "2022-06-17T04:38:27.598311Z"
    }
   },
   "outputs": [],
   "source": [
    "# 상표별 휘발유 평균가격 조회\n"
   ]
  },
  {
   "cell_type": "code",
   "execution_count": null,
   "metadata": {
    "ExecuteTime": {
     "end_time": "2022-06-17T04:38:27.628231Z",
     "start_time": "2022-06-17T04:38:27.614268Z"
    }
   },
   "outputs": [],
   "source": [
    "# 상표별 휘발유 평균가격 시각화\n"
   ]
  },
  {
   "cell_type": "code",
   "execution_count": null,
   "metadata": {
    "ExecuteTime": {
     "end_time": "2022-06-17T04:38:27.643201Z",
     "start_time": "2022-06-17T04:38:27.632220Z"
    }
   },
   "outputs": [],
   "source": [
    "# 셀프주유소와 일반주유소 개수 확인\n"
   ]
  },
  {
   "cell_type": "code",
   "execution_count": null,
   "metadata": {
    "ExecuteTime": {
     "end_time": "2022-06-17T04:38:27.659148Z",
     "start_time": "2022-06-17T04:38:27.647180Z"
    }
   },
   "outputs": [],
   "source": [
    "# 셀프 여부에 따른 휘발유 평균 가격 비교 \n"
   ]
  },
  {
   "cell_type": "code",
   "execution_count": null,
   "metadata": {
    "ExecuteTime": {
     "end_time": "2022-06-17T04:38:27.675104Z",
     "start_time": "2022-06-17T04:38:27.664136Z"
    }
   },
   "outputs": [],
   "source": [
    "# 상표별 일반/셀프 주유소의 휘발유 가격 평균 비교\n"
   ]
  },
  {
   "cell_type": "code",
   "execution_count": null,
   "metadata": {
    "ExecuteTime": {
     "end_time": "2022-06-17T04:38:27.691062Z",
     "start_time": "2022-06-17T04:38:27.678097Z"
    }
   },
   "outputs": [],
   "source": [
    "# 상표별 일반/셀프 주유소의 휘발유 가격 평균 비교 시각화\n"
   ]
  },
  {
   "cell_type": "code",
   "execution_count": null,
   "metadata": {
    "ExecuteTime": {
     "end_time": "2022-06-17T04:38:27.707023Z",
     "start_time": "2022-06-17T04:38:27.694054Z"
    }
   },
   "outputs": [],
   "source": [
    "# 상표별 휘발유 가격의 분포를 boxplot으로 시각화\n"
   ]
  },
  {
   "cell_type": "code",
   "execution_count": null,
   "metadata": {
    "ExecuteTime": {
     "end_time": "2022-06-17T04:38:27.722976Z",
     "start_time": "2022-06-17T04:38:27.710012Z"
    }
   },
   "outputs": [],
   "source": [
    "# 상표별 일반/셀프 주유소의 휘발유 가격에 대한 분포 확인 - boxplot으로 시각화\n"
   ]
  },
  {
   "cell_type": "code",
   "execution_count": null,
   "metadata": {
    "ExecuteTime": {
     "end_time": "2022-06-17T04:38:27.738935Z",
     "start_time": "2022-06-17T04:38:27.725970Z"
    }
   },
   "outputs": [],
   "source": [
    "# 구별 휘발유 가격의 평균\n"
   ]
  },
  {
   "cell_type": "code",
   "execution_count": null,
   "metadata": {
    "ExecuteTime": {
     "end_time": "2022-06-17T04:38:27.753894Z",
     "start_time": "2022-06-17T04:38:27.740929Z"
    },
    "scrolled": true
   },
   "outputs": [],
   "source": [
    "# 평균 가격이 가장 높은 구의 상표별 휘발유 평균가격\n"
   ]
  },
  {
   "cell_type": "code",
   "execution_count": null,
   "metadata": {
    "ExecuteTime": {
     "end_time": "2022-06-17T04:38:27.768853Z",
     "start_time": "2022-06-17T04:38:27.756886Z"
    }
   },
   "outputs": [],
   "source": [
    "# 월 평균 휘발유 가격\n"
   ]
  },
  {
   "cell_type": "code",
   "execution_count": null,
   "metadata": {
    "ExecuteTime": {
     "end_time": "2022-06-17T04:38:27.784812Z",
     "start_time": "2022-06-17T04:38:27.771846Z"
    }
   },
   "outputs": [],
   "source": [
    "# 각 구의 월별 평균 휘발유 가격 \n"
   ]
  },
  {
   "cell_type": "code",
   "execution_count": null,
   "metadata": {
    "ExecuteTime": {
     "end_time": "2022-06-17T04:38:27.800771Z",
     "start_time": "2022-06-17T04:38:27.790796Z"
    }
   },
   "outputs": [],
   "source": [
    "# 각 구의 월별 평균가격의 변화추이 시각화\n"
   ]
  },
  {
   "cell_type": "code",
   "execution_count": null,
   "metadata": {
    "ExecuteTime": {
     "end_time": "2022-06-17T04:38:27.815729Z",
     "start_time": "2022-06-17T04:38:27.803762Z"
    },
    "scrolled": true
   },
   "outputs": [],
   "source": [
    "# 가장 휘발유가격이 비싼 주유소 상위 5 - (같은 주유소가 여러개 나오므로 가장 비싼 가격을 기준으로 집계)\n"
   ]
  },
  {
   "cell_type": "code",
   "execution_count": null,
   "metadata": {
    "ExecuteTime": {
     "end_time": "2022-06-17T04:38:27.830866Z",
     "start_time": "2022-06-17T04:38:27.818721Z"
    },
    "scrolled": true
   },
   "outputs": [],
   "source": [
    "# 가장 휘발유가격이 저렴한 주유소 상위 5 - (같은 주유소가 여러개 나오므로 가장 비싼 가격을 기준으로 집계)\n"
   ]
  },
  {
   "cell_type": "code",
   "execution_count": null,
   "metadata": {
    "ExecuteTime": {
     "end_time": "2022-06-17T04:38:27.847021Z",
     "start_time": "2022-06-17T04:38:27.834852Z"
    }
   },
   "outputs": [],
   "source": [
    "# 휘발유 비싼 주유소의 상위 5개의 상호, 주소, 상표, 셀프여부,  조회 - 위에서 조회한 결과에 추가 정보(상표, 셀프여부 등) 조회 (중복제거-drop_duplicates)\n"
   ]
  },
  {
   "cell_type": "code",
   "execution_count": null,
   "metadata": {
    "ExecuteTime": {
     "end_time": "2022-06-17T04:38:27.877936Z",
     "start_time": "2022-06-17T04:38:27.858987Z"
    }
   },
   "outputs": [],
   "source": [
    "# 휘발유 저렴한 주유소의 상위 5개의 상호, 주소, 상표, 셀프여부,  조회 - 위에서 조회한 결과에 추가 정보(상표, 셀프여부 등) 조회 (중복제거-drop_duplicates)\n"
   ]
  },
  {
   "cell_type": "code",
   "execution_count": null,
   "metadata": {
    "ExecuteTime": {
     "end_time": "2021-03-15T00:08:33.086454Z",
     "start_time": "2021-03-15T00:08:33.041006Z"
    }
   },
   "outputs": [],
   "source": [
    "# 고급 휘발유를 가장 많이 파는 구 조회\n"
   ]
  },
  {
   "cell_type": "code",
   "execution_count": null,
   "metadata": {},
   "outputs": [],
   "source": []
  },
  {
   "cell_type": "code",
   "execution_count": null,
   "metadata": {},
   "outputs": [],
   "source": [
    "###############################################################################\n",
    "# 주유소 가격 데이터를 이용해서 알고 싶은 정보들을 추가 분석해 보세요.\n",
    "###############################################################################\n"
   ]
  },
  {
   "cell_type": "code",
   "execution_count": null,
   "metadata": {},
   "outputs": [],
   "source": []
  },
  {
   "cell_type": "code",
   "execution_count": null,
   "metadata": {},
   "outputs": [],
   "source": []
  },
  {
   "cell_type": "code",
   "execution_count": null,
   "metadata": {},
   "outputs": [],
   "source": []
  },
  {
   "cell_type": "code",
   "execution_count": null,
   "metadata": {},
   "outputs": [],
   "source": []
  }
 ],
 "metadata": {
  "kernelspec": {
   "display_name": "주유소가격 데이터 분석 실습",
   "language": "python",
   "name": "python3"
  },
  "language_info": {
   "codemirror_mode": {
    "name": "ipython",
    "version": 3
   },
   "file_extension": ".py",
   "mimetype": "text/x-python",
   "name": "python",
   "nbconvert_exporter": "python",
   "pygments_lexer": "ipython3",
   "version": "3.10.19"
  },
  "toc": {
   "base_numbering": 1,
   "nav_menu": {},
   "number_sections": true,
   "sideBar": true,
   "skip_h1_title": false,
   "title_cell": "Table of Contents",
   "title_sidebar": "Contents",
   "toc_cell": false,
   "toc_position": {},
   "toc_section_display": true,
   "toc_window_display": false
  },
  "varInspector": {
   "cols": {
    "lenName": 16,
    "lenType": 16,
    "lenVar": 40
   },
   "kernels_config": {
    "python": {
     "delete_cmd_postfix": "",
     "delete_cmd_prefix": "del ",
     "library": "var_list.py",
     "varRefreshCmd": "print(var_dic_list())"
    },
    "r": {
     "delete_cmd_postfix": ") ",
     "delete_cmd_prefix": "rm(",
     "library": "var_list.r",
     "varRefreshCmd": "cat(var_dic_list()) "
    }
   },
   "types_to_exclude": [
    "module",
    "function",
    "builtin_function_or_method",
    "instance",
    "_Feature"
   ],
   "window_display": false
  }
 },
 "nbformat": 4,
 "nbformat_minor": 4
}
